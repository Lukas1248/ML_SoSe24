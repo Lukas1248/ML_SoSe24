{
 "cells": [
  {
   "cell_type": "markdown",
   "id": "170164fc",
   "metadata": {},
   "source": [
    "# Individual Assignment - Number 2\n",
    "<br>\n",
    "Dear course participant,\n",
    "\n",
    "please find attached your individual assignment for the practical lecture number 2. You have one week to complete your individual task. Please use this Jupyter Notebook to implement the solution of your task and dont forget to write down some helpful comments! The comments are usefull for us to understand your thoughs while checking your solution to the given task. \n",
    "\n",
    "After completion, please rename this file in the following format: `iliasID_matrikelNr`. For example: `mmuster_11012345`<br>\n",
    "You can rename this file through `File` $\\to$ `Rename` on the navigation bar.\n",
    "\n",
    "Upload your renamed file in ILIAS/.../Jelali - Machine Learning (ML)/Assignments/Individual Assignments <br>\n",
    "Link: https://ilu.th-koeln.de/ilias.php?baseClass=ilexercisehandlergui&cmdNode=cd:n0&cmdClass=ilObjExerciseGUI&cmd=showOverview&ref_id=184690&ass_id=9678 \n",
    "\n",
    "Additional Information:<br>\n",
    "If required, you can change the Kernel of this Notebook through `Kernel` $\\to$ `Change Kernel` on the navigation bar.\n",
    "\n",
    "**The assignment is due to 18.04.24 - 14:00**\n",
    "\n",
    "*As a small reminder:*\n",
    "\n",
    "**Do’s**\n",
    "* Form study groups (with arbitrary number of people) $\\to$ discuss and work on assignments in groups\n",
    "    - learn from each other\n",
    "    - Extensively use the internet (search engines e.g. google) and literature (papers, books, etc.) - knowledge is available everywhere! \n",
    "* Write down your own solutions \n",
    "* Write down the names of people with whom you’ve discussed the homework\n",
    "\n",
    "**Don’ts**\n",
    "* Copy solutions from others\n",
    "* Plagiarism\n",
    "\n",
    "Have fun implementing your own solution to this task! "
   ]
  },
  {
   "cell_type": "markdown",
   "id": "4572041e",
   "metadata": {},
   "source": [
    "## Individual Task\n",
    "\n",
    "In this weeks assignment, you have more freedom to work on your individual task. You already learned the basic concept of a pandas DataFrame and also some of the data handling operations. Building on this previous knowledge, your task for this week is to choose an interesting data set from the following resourses and analyze it using the methods you have already learned. You are also very welcome to use new functions that we didnt discuss during the lecture. In this case, add a short comment in your code to tell us why you used this function.\n",
    "\n",
    "Please visit the following open-source online databases to select a `multivariate` data set for your assignment:\n",
    "- http://archive.ics.uci.edu/ml/datasets.php\n",
    "- https://www.kaggle.com/datasets\n",
    "- https://www.quandl.com/search\n",
    "\n",
    "**Please note:** \n",
    "\n",
    "Make sure that your data set contain structured data, e.g. time-series data. Dont select unstructured data sets such as images or text documents! \n",
    "\n",
    "Your data set can consist of numerical or mixed (numerical and categorical) attributes. But it must be a multivariate data set.\n",
    "\n",
    "The selected data set does not have to be from the field of engineering. The most important thing is that you are interested in the data. If you are interested in the analysis of portuguese wine quality from 2009, be free to select a corresponding data set for this purpose!\n",
    "\n",
    "**Recommendations**\n",
    "\n",
    "- create a new folder for your assignment and download or copy your data set into the same folder as this jupyter notebook document\n",
    "- if your downloaded data set contain multiple data set files, please select one file to work on your assignment. \n",
    "    - only analyze and upload one single data file.\n",
    "- rename the folder in the same way as this document using `iliasID_matrikelNr`\n",
    "- you can make a .zip archive of your folder and upload your folder. \n",
    "    - make sure it contains your selected data set and this jupyter notebook document, which contains your results\n",
    "\n",
    "\n",
    "**Tasks**\n",
    "\n",
    "You should perform the following small tasks to analyze your data set:\n",
    "1. first of all describe in a markdown cell why you selected this particular data set. Explain why you find this data set interesting and what insights you would like to gain from it. Write a maximum of 10 sentences.\n",
    "2. open your data set on your computer (e.g. with a text editor or microsoft excel) and take a look on the data structure \n",
    "3. import your data set into a pandas DataFrame by using the `read_csv()` function and make a copy of it using the `copy()` function. Work on the copy for your further analysis.\n",
    "4. take a quick look into the DataFrame using the `head()`, `tail()` and `random()` functions\n",
    "5. print the data set information with pandas using the `info()` function\n",
    "6. print the statistical description of the DataFrame using the `describe()` function\n",
    "7. take a closer look into the individual column/attributes of the DataFrame. Create plots and histograms of selected attributes. (at least 2 attributes)\n",
    "8. can you see any connections between the indiviual attributes? Use the `corr()` function of pandas to calculate the correlation matrix and the `heatmap()` function of seaborn to visualize the results\n",
    "9. use the `boxplot()` function of seaborn to create boxplots\n",
    "10. select three attributes from the data set and create a `multiple subplot` using matplotlib. The subplot should be used to visualize the course of all three attributes in separate plot functions embedded in a single figure. Use the following line of code to initialize your subplots: <br>`fig, (ax1, ax2, ax3) = plt.subplots(3, 1)`\n",
    "\n",
    "At first glance, the tasks look like a lot of work. However, the individual sub-items are processed quickly. Remember that you will be working on very extensive project work in a few weeks and use this opportunity to improve your knowledge with the data science tools. Also dont forget to have fun! \n",
    "\n",
    "You have a lot of freedom in handling this weeks assignment. The work packages defined above must be processed. However, you can also edit other content at your own interest. Be creative!\n",
    "\n",
    "\n",
    "**Please upload your jupyter notebook document AND your selected dataset in ILIAS after completion of your assignment!**"
   ]
  },
  {
   "cell_type": "code",
   "execution_count": 226,
   "id": "fd95c942",
   "metadata": {
    "ExecuteTime": {
     "end_time": "2024-04-11T16:59:07.286498Z",
     "start_time": "2024-04-11T16:59:07.282742Z"
    }
   },
   "outputs": [],
   "source": [
    "# import required packages\n",
    "import numpy as np\n",
    "import pandas as pd\n",
    "import matplotlib.pyplot as plt\n",
    "import seaborn as sns\n",
    "\n",
    "# Render plots inline\n",
    "%matplotlib inline\n",
    "\n",
    "# Make the graphs a bit prettier, and bigger\n",
    "plt.rcParams['figure.figsize'] = (15, 5)"
   ]
  },
  {
   "cell_type": "markdown",
   "id": "68737daa",
   "metadata": {},
   "source": [
    "## Start working on your task here"
   ]
  },
  {
   "cell_type": "markdown",
   "source": [
    "# #1\n",
    "Ich mag sehr gerne Fahrrad fahren und habe mir deshalb das Dataset ausgesucht. Um zur TH Köln zu kommen, benutze ich selber ein Bike Sharing-Angebot und finde es deshalb interessant wie oft und bei welchen Wetterverhältnissen ein Fahrrad ausgeliehen wird. Ich möchte herausfinden bei welcher Temperatur Fahrräder am häufigsten ausgeliehen wurden."
   ],
   "metadata": {
    "collapsed": false
   },
   "id": "fbaadec578b1229c"
  },
  {
   "cell_type": "markdown",
   "source": [
    "# #2\n",
    "Mit Excel geöffnet"
   ],
   "metadata": {
    "collapsed": false
   },
   "id": "6bceb836d9d8eb4"
  },
  {
   "cell_type": "markdown",
   "source": [
    "# #3"
   ],
   "metadata": {
    "collapsed": false
   },
   "id": "9ff47cedc220eae2"
  },
  {
   "cell_type": "code",
   "outputs": [],
   "source": [
    "df = pd.read_csv('day.csv', header=0)\n",
    "data = df.copy()\n",
    "data['dteday'] = pd.to_datetime(data['dteday'])"
   ],
   "metadata": {
    "collapsed": false,
    "ExecuteTime": {
     "end_time": "2024-04-11T16:59:07.320996Z",
     "start_time": "2024-04-11T16:59:07.314508Z"
    }
   },
   "id": "91869c84306f4831",
   "execution_count": 227
  },
  {
   "cell_type": "markdown",
   "source": [
    "# #4"
   ],
   "metadata": {
    "collapsed": false
   },
   "id": "f177009f3f04f142"
  },
  {
   "cell_type": "code",
   "outputs": [
    {
     "data": {
      "text/plain": "   instant     dteday  season  yr  mnth  holiday  weekday  workingday  \\\n0        1 2011-01-01       1   0     1        0        6           0   \n1        2 2011-01-02       1   0     1        0        0           0   \n\n   weathersit      temp     atemp       hum  windspeed  casual  registered  \\\n0           2  0.344167  0.363625  0.805833   0.160446     331         654   \n1           2  0.363478  0.353739  0.696087   0.248539     131         670   \n\n   cnt  \n0  985  \n1  801  ",
      "text/html": "<div>\n<style scoped>\n    .dataframe tbody tr th:only-of-type {\n        vertical-align: middle;\n    }\n\n    .dataframe tbody tr th {\n        vertical-align: top;\n    }\n\n    .dataframe thead th {\n        text-align: right;\n    }\n</style>\n<table border=\"1\" class=\"dataframe\">\n  <thead>\n    <tr style=\"text-align: right;\">\n      <th></th>\n      <th>instant</th>\n      <th>dteday</th>\n      <th>season</th>\n      <th>yr</th>\n      <th>mnth</th>\n      <th>holiday</th>\n      <th>weekday</th>\n      <th>workingday</th>\n      <th>weathersit</th>\n      <th>temp</th>\n      <th>atemp</th>\n      <th>hum</th>\n      <th>windspeed</th>\n      <th>casual</th>\n      <th>registered</th>\n      <th>cnt</th>\n    </tr>\n  </thead>\n  <tbody>\n    <tr>\n      <th>0</th>\n      <td>1</td>\n      <td>2011-01-01</td>\n      <td>1</td>\n      <td>0</td>\n      <td>1</td>\n      <td>0</td>\n      <td>6</td>\n      <td>0</td>\n      <td>2</td>\n      <td>0.344167</td>\n      <td>0.363625</td>\n      <td>0.805833</td>\n      <td>0.160446</td>\n      <td>331</td>\n      <td>654</td>\n      <td>985</td>\n    </tr>\n    <tr>\n      <th>1</th>\n      <td>2</td>\n      <td>2011-01-02</td>\n      <td>1</td>\n      <td>0</td>\n      <td>1</td>\n      <td>0</td>\n      <td>0</td>\n      <td>0</td>\n      <td>2</td>\n      <td>0.363478</td>\n      <td>0.353739</td>\n      <td>0.696087</td>\n      <td>0.248539</td>\n      <td>131</td>\n      <td>670</td>\n      <td>801</td>\n    </tr>\n  </tbody>\n</table>\n</div>"
     },
     "execution_count": 228,
     "metadata": {},
     "output_type": "execute_result"
    }
   ],
   "source": [
    "data.head(2)"
   ],
   "metadata": {
    "collapsed": false,
    "ExecuteTime": {
     "end_time": "2024-04-11T16:59:07.330234Z",
     "start_time": "2024-04-11T16:59:07.322006Z"
    }
   },
   "id": "62e6826dab29ae3c",
   "execution_count": 228
  },
  {
   "cell_type": "code",
   "outputs": [
    {
     "data": {
      "text/plain": "     instant     dteday  season  yr  mnth  holiday  weekday  workingday  \\\n729      730 2012-12-30       1   1    12        0        0           0   \n730      731 2012-12-31       1   1    12        0        1           1   \n\n     weathersit      temp     atemp       hum  windspeed  casual  registered  \\\n729           1  0.255833  0.231700  0.483333   0.350754     364        1432   \n730           2  0.215833  0.223487  0.577500   0.154846     439        2290   \n\n      cnt  \n729  1796  \n730  2729  ",
      "text/html": "<div>\n<style scoped>\n    .dataframe tbody tr th:only-of-type {\n        vertical-align: middle;\n    }\n\n    .dataframe tbody tr th {\n        vertical-align: top;\n    }\n\n    .dataframe thead th {\n        text-align: right;\n    }\n</style>\n<table border=\"1\" class=\"dataframe\">\n  <thead>\n    <tr style=\"text-align: right;\">\n      <th></th>\n      <th>instant</th>\n      <th>dteday</th>\n      <th>season</th>\n      <th>yr</th>\n      <th>mnth</th>\n      <th>holiday</th>\n      <th>weekday</th>\n      <th>workingday</th>\n      <th>weathersit</th>\n      <th>temp</th>\n      <th>atemp</th>\n      <th>hum</th>\n      <th>windspeed</th>\n      <th>casual</th>\n      <th>registered</th>\n      <th>cnt</th>\n    </tr>\n  </thead>\n  <tbody>\n    <tr>\n      <th>729</th>\n      <td>730</td>\n      <td>2012-12-30</td>\n      <td>1</td>\n      <td>1</td>\n      <td>12</td>\n      <td>0</td>\n      <td>0</td>\n      <td>0</td>\n      <td>1</td>\n      <td>0.255833</td>\n      <td>0.231700</td>\n      <td>0.483333</td>\n      <td>0.350754</td>\n      <td>364</td>\n      <td>1432</td>\n      <td>1796</td>\n    </tr>\n    <tr>\n      <th>730</th>\n      <td>731</td>\n      <td>2012-12-31</td>\n      <td>1</td>\n      <td>1</td>\n      <td>12</td>\n      <td>0</td>\n      <td>1</td>\n      <td>1</td>\n      <td>2</td>\n      <td>0.215833</td>\n      <td>0.223487</td>\n      <td>0.577500</td>\n      <td>0.154846</td>\n      <td>439</td>\n      <td>2290</td>\n      <td>2729</td>\n    </tr>\n  </tbody>\n</table>\n</div>"
     },
     "execution_count": 229,
     "metadata": {},
     "output_type": "execute_result"
    }
   ],
   "source": [
    "data.tail(2)"
   ],
   "metadata": {
    "collapsed": false,
    "ExecuteTime": {
     "end_time": "2024-04-11T16:59:07.342256Z",
     "start_time": "2024-04-11T16:59:07.331241Z"
    }
   },
   "id": "b068c6334f63a868",
   "execution_count": 229
  },
  {
   "cell_type": "code",
   "outputs": [
    {
     "data": {
      "text/plain": "     instant     dteday  season  yr  mnth  holiday  weekday  workingday  \\\n360      361 2011-12-27       1   0    12        0        2           1   \n44        45 2011-02-14       1   0     2        0        1           1   \n\n     weathersit   temp     atemp       hum  windspeed  casual  registered  \\\n360           2  0.325  0.327633  0.762500   0.188450     103        1059   \n44            1  0.415  0.398350  0.375833   0.417908     208        1705   \n\n      cnt  \n360  1162  \n44   1913  ",
      "text/html": "<div>\n<style scoped>\n    .dataframe tbody tr th:only-of-type {\n        vertical-align: middle;\n    }\n\n    .dataframe tbody tr th {\n        vertical-align: top;\n    }\n\n    .dataframe thead th {\n        text-align: right;\n    }\n</style>\n<table border=\"1\" class=\"dataframe\">\n  <thead>\n    <tr style=\"text-align: right;\">\n      <th></th>\n      <th>instant</th>\n      <th>dteday</th>\n      <th>season</th>\n      <th>yr</th>\n      <th>mnth</th>\n      <th>holiday</th>\n      <th>weekday</th>\n      <th>workingday</th>\n      <th>weathersit</th>\n      <th>temp</th>\n      <th>atemp</th>\n      <th>hum</th>\n      <th>windspeed</th>\n      <th>casual</th>\n      <th>registered</th>\n      <th>cnt</th>\n    </tr>\n  </thead>\n  <tbody>\n    <tr>\n      <th>360</th>\n      <td>361</td>\n      <td>2011-12-27</td>\n      <td>1</td>\n      <td>0</td>\n      <td>12</td>\n      <td>0</td>\n      <td>2</td>\n      <td>1</td>\n      <td>2</td>\n      <td>0.325</td>\n      <td>0.327633</td>\n      <td>0.762500</td>\n      <td>0.188450</td>\n      <td>103</td>\n      <td>1059</td>\n      <td>1162</td>\n    </tr>\n    <tr>\n      <th>44</th>\n      <td>45</td>\n      <td>2011-02-14</td>\n      <td>1</td>\n      <td>0</td>\n      <td>2</td>\n      <td>0</td>\n      <td>1</td>\n      <td>1</td>\n      <td>1</td>\n      <td>0.415</td>\n      <td>0.398350</td>\n      <td>0.375833</td>\n      <td>0.417908</td>\n      <td>208</td>\n      <td>1705</td>\n      <td>1913</td>\n    </tr>\n  </tbody>\n</table>\n</div>"
     },
     "execution_count": 230,
     "metadata": {},
     "output_type": "execute_result"
    }
   ],
   "source": [
    "data.sample(2)"
   ],
   "metadata": {
    "collapsed": false,
    "ExecuteTime": {
     "end_time": "2024-04-11T16:59:07.354497Z",
     "start_time": "2024-04-11T16:59:07.343262Z"
    }
   },
   "id": "ebc9e3248997c45",
   "execution_count": 230
  },
  {
   "cell_type": "markdown",
   "source": [
    "# #5"
   ],
   "metadata": {
    "collapsed": false
   },
   "id": "3571a63858c0f609"
  },
  {
   "cell_type": "code",
   "outputs": [
    {
     "name": "stdout",
     "output_type": "stream",
     "text": [
      "<class 'pandas.core.frame.DataFrame'>\n",
      "RangeIndex: 731 entries, 0 to 730\n",
      "Data columns (total 16 columns):\n",
      " #   Column      Non-Null Count  Dtype         \n",
      "---  ------      --------------  -----         \n",
      " 0   instant     731 non-null    int64         \n",
      " 1   dteday      731 non-null    datetime64[ns]\n",
      " 2   season      731 non-null    int64         \n",
      " 3   yr          731 non-null    int64         \n",
      " 4   mnth        731 non-null    int64         \n",
      " 5   holiday     731 non-null    int64         \n",
      " 6   weekday     731 non-null    int64         \n",
      " 7   workingday  731 non-null    int64         \n",
      " 8   weathersit  731 non-null    int64         \n",
      " 9   temp        731 non-null    float64       \n",
      " 10  atemp       731 non-null    float64       \n",
      " 11  hum         731 non-null    float64       \n",
      " 12  windspeed   731 non-null    float64       \n",
      " 13  casual      731 non-null    int64         \n",
      " 14  registered  731 non-null    int64         \n",
      " 15  cnt         731 non-null    int64         \n",
      "dtypes: datetime64[ns](1), float64(4), int64(11)\n",
      "memory usage: 91.5 KB\n"
     ]
    }
   ],
   "source": [
    "data.info()"
   ],
   "metadata": {
    "collapsed": false,
    "ExecuteTime": {
     "end_time": "2024-04-11T16:59:07.364248Z",
     "start_time": "2024-04-11T16:59:07.355503Z"
    }
   },
   "id": "ba0e959f3709e804",
   "execution_count": 231
  },
  {
   "cell_type": "markdown",
   "source": [
    "# #6"
   ],
   "metadata": {
    "collapsed": false
   },
   "id": "8c93ecea178af92e"
  },
  {
   "cell_type": "code",
   "outputs": [
    {
     "data": {
      "text/plain": "          instant               dteday      season          yr        mnth  \\\ncount  731.000000                  731  731.000000  731.000000  731.000000   \nmean   366.000000  2012-01-01 00:00:00    2.496580    0.500684    6.519836   \nmin      1.000000  2011-01-01 00:00:00    1.000000    0.000000    1.000000   \n25%    183.500000  2011-07-02 12:00:00    2.000000    0.000000    4.000000   \n50%    366.000000  2012-01-01 00:00:00    3.000000    1.000000    7.000000   \n75%    548.500000  2012-07-01 12:00:00    3.000000    1.000000   10.000000   \nmax    731.000000  2012-12-31 00:00:00    4.000000    1.000000   12.000000   \nstd    211.165812                  NaN    1.110807    0.500342    3.451913   \n\n          holiday     weekday  workingday  weathersit        temp       atemp  \\\ncount  731.000000  731.000000  731.000000  731.000000  731.000000  731.000000   \nmean     0.028728    2.997264    0.683995    1.395349    0.495385    0.474354   \nmin      0.000000    0.000000    0.000000    1.000000    0.059130    0.079070   \n25%      0.000000    1.000000    0.000000    1.000000    0.337083    0.337842   \n50%      0.000000    3.000000    1.000000    1.000000    0.498333    0.486733   \n75%      0.000000    5.000000    1.000000    2.000000    0.655417    0.608602   \nmax      1.000000    6.000000    1.000000    3.000000    0.861667    0.840896   \nstd      0.167155    2.004787    0.465233    0.544894    0.183051    0.162961   \n\n              hum   windspeed       casual   registered          cnt  \ncount  731.000000  731.000000   731.000000   731.000000   731.000000  \nmean     0.627894    0.190486   848.176471  3656.172367  4504.348837  \nmin      0.000000    0.022392     2.000000    20.000000    22.000000  \n25%      0.520000    0.134950   315.500000  2497.000000  3152.000000  \n50%      0.626667    0.180975   713.000000  3662.000000  4548.000000  \n75%      0.730209    0.233214  1096.000000  4776.500000  5956.000000  \nmax      0.972500    0.507463  3410.000000  6946.000000  8714.000000  \nstd      0.142429    0.077498   686.622488  1560.256377  1937.211452  ",
      "text/html": "<div>\n<style scoped>\n    .dataframe tbody tr th:only-of-type {\n        vertical-align: middle;\n    }\n\n    .dataframe tbody tr th {\n        vertical-align: top;\n    }\n\n    .dataframe thead th {\n        text-align: right;\n    }\n</style>\n<table border=\"1\" class=\"dataframe\">\n  <thead>\n    <tr style=\"text-align: right;\">\n      <th></th>\n      <th>instant</th>\n      <th>dteday</th>\n      <th>season</th>\n      <th>yr</th>\n      <th>mnth</th>\n      <th>holiday</th>\n      <th>weekday</th>\n      <th>workingday</th>\n      <th>weathersit</th>\n      <th>temp</th>\n      <th>atemp</th>\n      <th>hum</th>\n      <th>windspeed</th>\n      <th>casual</th>\n      <th>registered</th>\n      <th>cnt</th>\n    </tr>\n  </thead>\n  <tbody>\n    <tr>\n      <th>count</th>\n      <td>731.000000</td>\n      <td>731</td>\n      <td>731.000000</td>\n      <td>731.000000</td>\n      <td>731.000000</td>\n      <td>731.000000</td>\n      <td>731.000000</td>\n      <td>731.000000</td>\n      <td>731.000000</td>\n      <td>731.000000</td>\n      <td>731.000000</td>\n      <td>731.000000</td>\n      <td>731.000000</td>\n      <td>731.000000</td>\n      <td>731.000000</td>\n      <td>731.000000</td>\n    </tr>\n    <tr>\n      <th>mean</th>\n      <td>366.000000</td>\n      <td>2012-01-01 00:00:00</td>\n      <td>2.496580</td>\n      <td>0.500684</td>\n      <td>6.519836</td>\n      <td>0.028728</td>\n      <td>2.997264</td>\n      <td>0.683995</td>\n      <td>1.395349</td>\n      <td>0.495385</td>\n      <td>0.474354</td>\n      <td>0.627894</td>\n      <td>0.190486</td>\n      <td>848.176471</td>\n      <td>3656.172367</td>\n      <td>4504.348837</td>\n    </tr>\n    <tr>\n      <th>min</th>\n      <td>1.000000</td>\n      <td>2011-01-01 00:00:00</td>\n      <td>1.000000</td>\n      <td>0.000000</td>\n      <td>1.000000</td>\n      <td>0.000000</td>\n      <td>0.000000</td>\n      <td>0.000000</td>\n      <td>1.000000</td>\n      <td>0.059130</td>\n      <td>0.079070</td>\n      <td>0.000000</td>\n      <td>0.022392</td>\n      <td>2.000000</td>\n      <td>20.000000</td>\n      <td>22.000000</td>\n    </tr>\n    <tr>\n      <th>25%</th>\n      <td>183.500000</td>\n      <td>2011-07-02 12:00:00</td>\n      <td>2.000000</td>\n      <td>0.000000</td>\n      <td>4.000000</td>\n      <td>0.000000</td>\n      <td>1.000000</td>\n      <td>0.000000</td>\n      <td>1.000000</td>\n      <td>0.337083</td>\n      <td>0.337842</td>\n      <td>0.520000</td>\n      <td>0.134950</td>\n      <td>315.500000</td>\n      <td>2497.000000</td>\n      <td>3152.000000</td>\n    </tr>\n    <tr>\n      <th>50%</th>\n      <td>366.000000</td>\n      <td>2012-01-01 00:00:00</td>\n      <td>3.000000</td>\n      <td>1.000000</td>\n      <td>7.000000</td>\n      <td>0.000000</td>\n      <td>3.000000</td>\n      <td>1.000000</td>\n      <td>1.000000</td>\n      <td>0.498333</td>\n      <td>0.486733</td>\n      <td>0.626667</td>\n      <td>0.180975</td>\n      <td>713.000000</td>\n      <td>3662.000000</td>\n      <td>4548.000000</td>\n    </tr>\n    <tr>\n      <th>75%</th>\n      <td>548.500000</td>\n      <td>2012-07-01 12:00:00</td>\n      <td>3.000000</td>\n      <td>1.000000</td>\n      <td>10.000000</td>\n      <td>0.000000</td>\n      <td>5.000000</td>\n      <td>1.000000</td>\n      <td>2.000000</td>\n      <td>0.655417</td>\n      <td>0.608602</td>\n      <td>0.730209</td>\n      <td>0.233214</td>\n      <td>1096.000000</td>\n      <td>4776.500000</td>\n      <td>5956.000000</td>\n    </tr>\n    <tr>\n      <th>max</th>\n      <td>731.000000</td>\n      <td>2012-12-31 00:00:00</td>\n      <td>4.000000</td>\n      <td>1.000000</td>\n      <td>12.000000</td>\n      <td>1.000000</td>\n      <td>6.000000</td>\n      <td>1.000000</td>\n      <td>3.000000</td>\n      <td>0.861667</td>\n      <td>0.840896</td>\n      <td>0.972500</td>\n      <td>0.507463</td>\n      <td>3410.000000</td>\n      <td>6946.000000</td>\n      <td>8714.000000</td>\n    </tr>\n    <tr>\n      <th>std</th>\n      <td>211.165812</td>\n      <td>NaN</td>\n      <td>1.110807</td>\n      <td>0.500342</td>\n      <td>3.451913</td>\n      <td>0.167155</td>\n      <td>2.004787</td>\n      <td>0.465233</td>\n      <td>0.544894</td>\n      <td>0.183051</td>\n      <td>0.162961</td>\n      <td>0.142429</td>\n      <td>0.077498</td>\n      <td>686.622488</td>\n      <td>1560.256377</td>\n      <td>1937.211452</td>\n    </tr>\n  </tbody>\n</table>\n</div>"
     },
     "execution_count": 232,
     "metadata": {},
     "output_type": "execute_result"
    }
   ],
   "source": [
    "data.describe()"
   ],
   "metadata": {
    "collapsed": false,
    "ExecuteTime": {
     "end_time": "2024-04-11T16:59:07.396718Z",
     "start_time": "2024-04-11T16:59:07.364248Z"
    }
   },
   "id": "a5cf0d524b3fe562",
   "execution_count": 232
  },
  {
   "cell_type": "markdown",
   "source": [
    "# #7"
   ],
   "metadata": {
    "collapsed": false
   },
   "id": "66e2922a153d5566"
  },
  {
   "cell_type": "code",
   "outputs": [
    {
     "data": {
      "text/plain": "<Axes: xlabel='season', ylabel='count'>"
     },
     "execution_count": 233,
     "metadata": {},
     "output_type": "execute_result"
    },
    {
     "data": {
      "text/plain": "<Figure size 1500x500 with 1 Axes>",
      "image/png": "[encoded data removed]"
     },
     "metadata": {},
     "output_type": "display_data"
    }
   ],
   "source": [
    "season_dict = {1: 'winter', 2: 'spring', 3: 'summer', 4: 'fall'}\n",
    "sns.countplot(x = 'season', data = data, formatter=season_dict)"
   ],
   "metadata": {
    "collapsed": false,
    "ExecuteTime": {
     "end_time": "2024-04-11T16:59:07.535419Z",
     "start_time": "2024-04-11T16:59:07.397731Z"
    }
   },
   "id": "3bd372ec525993a6",
   "execution_count": 233
  },
  {
   "cell_type": "code",
   "outputs": [
    {
     "ename": "TypeError",
     "evalue": "float() argument must be a string or a real number, not 'Timestamp'",
     "output_type": "error",
     "traceback": [
      "\u001B[1;31m---------------------------------------------------------------------------\u001B[0m",
      "\u001B[1;31mTypeError\u001B[0m                                 Traceback (most recent call last)",
      "Cell \u001B[1;32mIn[234], line 1\u001B[0m\n\u001B[1;32m----> 1\u001B[0m \u001B[43msns\u001B[49m\u001B[38;5;241;43m.\u001B[39;49m\u001B[43mlmplot\u001B[49m\u001B[43m(\u001B[49m\u001B[43mx\u001B[49m\u001B[38;5;241;43m=\u001B[39;49m\u001B[38;5;124;43m'\u001B[39;49m\u001B[38;5;124;43mdteday\u001B[39;49m\u001B[38;5;124;43m'\u001B[39;49m\u001B[43m,\u001B[49m\u001B[43m \u001B[49m\u001B[43my\u001B[49m\u001B[38;5;241;43m=\u001B[39;49m\u001B[38;5;124;43m'\u001B[39;49m\u001B[38;5;124;43mcnt\u001B[39;49m\u001B[38;5;124;43m'\u001B[39;49m\u001B[43m,\u001B[49m\u001B[43m \u001B[49m\u001B[43mdata\u001B[49m\u001B[43m \u001B[49m\u001B[38;5;241;43m=\u001B[39;49m\u001B[43m \u001B[49m\u001B[43mdata\u001B[49m\u001B[43m)\u001B[49m\n",
      "File \u001B[1;32m~\\Documents\\Studium\\Master Maschinenbau TH Köln\\Machine Learning\\ML_SoSe24\\venv\\Lib\\site-packages\\seaborn\\regression.py:640\u001B[0m, in \u001B[0;36mlmplot\u001B[1;34m(data, x, y, hue, col, row, palette, col_wrap, height, aspect, markers, sharex, sharey, hue_order, col_order, row_order, legend, legend_out, x_estimator, x_bins, x_ci, scatter, fit_reg, ci, n_boot, units, seed, order, logistic, lowess, robust, logx, x_partial, y_partial, truncate, x_jitter, y_jitter, scatter_kws, line_kws, facet_kws)\u001B[0m\n\u001B[0;32m    637\u001B[0m     ax\u001B[38;5;241m.\u001B[39mupdate_datalim(xys, updatey\u001B[38;5;241m=\u001B[39m\u001B[38;5;28;01mFalse\u001B[39;00m)\n\u001B[0;32m    638\u001B[0m     ax\u001B[38;5;241m.\u001B[39mautoscale_view(scaley\u001B[38;5;241m=\u001B[39m\u001B[38;5;28;01mFalse\u001B[39;00m)\n\u001B[1;32m--> 640\u001B[0m \u001B[43mfacets\u001B[49m\u001B[38;5;241;43m.\u001B[39;49m\u001B[43mmap_dataframe\u001B[49m\u001B[43m(\u001B[49m\u001B[43mupdate_datalim\u001B[49m\u001B[43m,\u001B[49m\u001B[43m \u001B[49m\u001B[43mx\u001B[49m\u001B[38;5;241;43m=\u001B[39;49m\u001B[43mx\u001B[49m\u001B[43m,\u001B[49m\u001B[43m \u001B[49m\u001B[43my\u001B[49m\u001B[38;5;241;43m=\u001B[39;49m\u001B[43my\u001B[49m\u001B[43m)\u001B[49m\n\u001B[0;32m    642\u001B[0m \u001B[38;5;66;03m# Draw the regression plot on each facet\u001B[39;00m\n\u001B[0;32m    643\u001B[0m regplot_kws \u001B[38;5;241m=\u001B[39m \u001B[38;5;28mdict\u001B[39m(\n\u001B[0;32m    644\u001B[0m     x_estimator\u001B[38;5;241m=\u001B[39mx_estimator, x_bins\u001B[38;5;241m=\u001B[39mx_bins, x_ci\u001B[38;5;241m=\u001B[39mx_ci,\n\u001B[0;32m    645\u001B[0m     scatter\u001B[38;5;241m=\u001B[39mscatter, fit_reg\u001B[38;5;241m=\u001B[39mfit_reg, ci\u001B[38;5;241m=\u001B[39mci, n_boot\u001B[38;5;241m=\u001B[39mn_boot, units\u001B[38;5;241m=\u001B[39munits,\n\u001B[1;32m   (...)\u001B[0m\n\u001B[0;32m    649\u001B[0m     scatter_kws\u001B[38;5;241m=\u001B[39mscatter_kws, line_kws\u001B[38;5;241m=\u001B[39mline_kws,\n\u001B[0;32m    650\u001B[0m )\n",
      "File \u001B[1;32m~\\Documents\\Studium\\Master Maschinenbau TH Köln\\Machine Learning\\ML_SoSe24\\venv\\Lib\\site-packages\\seaborn\\axisgrid.py:825\u001B[0m, in \u001B[0;36mFacetGrid.map_dataframe\u001B[1;34m(self, func, *args, **kwargs)\u001B[0m\n\u001B[0;32m    822\u001B[0m     kwargs[\u001B[38;5;124m\"\u001B[39m\u001B[38;5;124mdata\u001B[39m\u001B[38;5;124m\"\u001B[39m] \u001B[38;5;241m=\u001B[39m data_ijk\n\u001B[0;32m    824\u001B[0m     \u001B[38;5;66;03m# Draw the plot\u001B[39;00m\n\u001B[1;32m--> 825\u001B[0m     \u001B[38;5;28;43mself\u001B[39;49m\u001B[38;5;241;43m.\u001B[39;49m\u001B[43m_facet_plot\u001B[49m\u001B[43m(\u001B[49m\u001B[43mfunc\u001B[49m\u001B[43m,\u001B[49m\u001B[43m \u001B[49m\u001B[43max\u001B[49m\u001B[43m,\u001B[49m\u001B[43m \u001B[49m\u001B[43margs\u001B[49m\u001B[43m,\u001B[49m\u001B[43m \u001B[49m\u001B[43mkwargs\u001B[49m\u001B[43m)\u001B[49m\n\u001B[0;32m    827\u001B[0m \u001B[38;5;66;03m# For axis labels, prefer to use positional args for backcompat\u001B[39;00m\n\u001B[0;32m    828\u001B[0m \u001B[38;5;66;03m# but also extract the x/y kwargs and use if no corresponding arg\u001B[39;00m\n\u001B[0;32m    829\u001B[0m axis_labels \u001B[38;5;241m=\u001B[39m [kwargs\u001B[38;5;241m.\u001B[39mget(\u001B[38;5;124m\"\u001B[39m\u001B[38;5;124mx\u001B[39m\u001B[38;5;124m\"\u001B[39m, \u001B[38;5;28;01mNone\u001B[39;00m), kwargs\u001B[38;5;241m.\u001B[39mget(\u001B[38;5;124m\"\u001B[39m\u001B[38;5;124my\u001B[39m\u001B[38;5;124m\"\u001B[39m, \u001B[38;5;28;01mNone\u001B[39;00m)]\n",
      "File \u001B[1;32m~\\Documents\\Studium\\Master Maschinenbau TH Köln\\Machine Learning\\ML_SoSe24\\venv\\Lib\\site-packages\\seaborn\\axisgrid.py:854\u001B[0m, in \u001B[0;36mFacetGrid._facet_plot\u001B[1;34m(self, func, ax, plot_args, plot_kwargs)\u001B[0m\n\u001B[0;32m    852\u001B[0m     plot_args \u001B[38;5;241m=\u001B[39m []\n\u001B[0;32m    853\u001B[0m     plot_kwargs[\u001B[38;5;124m\"\u001B[39m\u001B[38;5;124max\u001B[39m\u001B[38;5;124m\"\u001B[39m] \u001B[38;5;241m=\u001B[39m ax\n\u001B[1;32m--> 854\u001B[0m \u001B[43mfunc\u001B[49m\u001B[43m(\u001B[49m\u001B[38;5;241;43m*\u001B[39;49m\u001B[43mplot_args\u001B[49m\u001B[43m,\u001B[49m\u001B[43m \u001B[49m\u001B[38;5;241;43m*\u001B[39;49m\u001B[38;5;241;43m*\u001B[39;49m\u001B[43mplot_kwargs\u001B[49m\u001B[43m)\u001B[49m\n\u001B[0;32m    856\u001B[0m \u001B[38;5;66;03m# Sort out the supporting information\u001B[39;00m\n\u001B[0;32m    857\u001B[0m \u001B[38;5;28mself\u001B[39m\u001B[38;5;241m.\u001B[39m_update_legend_data(ax)\n",
      "File \u001B[1;32m~\\Documents\\Studium\\Master Maschinenbau TH Köln\\Machine Learning\\ML_SoSe24\\venv\\Lib\\site-packages\\seaborn\\regression.py:636\u001B[0m, in \u001B[0;36mlmplot.<locals>.update_datalim\u001B[1;34m(data, x, y, ax, **kws)\u001B[0m\n\u001B[0;32m    635\u001B[0m \u001B[38;5;28;01mdef\u001B[39;00m \u001B[38;5;21mupdate_datalim\u001B[39m(data, x, y, ax, \u001B[38;5;241m*\u001B[39m\u001B[38;5;241m*\u001B[39mkws):\n\u001B[1;32m--> 636\u001B[0m     xys \u001B[38;5;241m=\u001B[39m \u001B[43mdata\u001B[49m\u001B[43m[\u001B[49m\u001B[43m[\u001B[49m\u001B[43mx\u001B[49m\u001B[43m,\u001B[49m\u001B[43m \u001B[49m\u001B[43my\u001B[49m\u001B[43m]\u001B[49m\u001B[43m]\u001B[49m\u001B[38;5;241;43m.\u001B[39;49m\u001B[43mto_numpy\u001B[49m\u001B[43m(\u001B[49m\u001B[43m)\u001B[49m\u001B[38;5;241;43m.\u001B[39;49m\u001B[43mastype\u001B[49m\u001B[43m(\u001B[49m\u001B[38;5;28;43mfloat\u001B[39;49m\u001B[43m)\u001B[49m\n\u001B[0;32m    637\u001B[0m     ax\u001B[38;5;241m.\u001B[39mupdate_datalim(xys, updatey\u001B[38;5;241m=\u001B[39m\u001B[38;5;28;01mFalse\u001B[39;00m)\n\u001B[0;32m    638\u001B[0m     ax\u001B[38;5;241m.\u001B[39mautoscale_view(scaley\u001B[38;5;241m=\u001B[39m\u001B[38;5;28;01mFalse\u001B[39;00m)\n",
      "\u001B[1;31mTypeError\u001B[0m: float() argument must be a string or a real number, not 'Timestamp'"
     ]
    },
    {
     "data": {
      "text/plain": "<Figure size 500x500 with 1 Axes>",
      "image/png": "[encoded data removed]"
     },
     "metadata": {},
     "output_type": "display_data"
    }
   ],
   "source": [
    "sns.lmplot(x='dteday', y='cnt', data = data)"
   ],
   "metadata": {
    "collapsed": false,
    "ExecuteTime": {
     "end_time": "2024-04-11T16:59:07.739296Z",
     "start_time": "2024-04-11T16:59:07.536427Z"
    }
   },
   "id": "7a33a3b11816c37b",
   "execution_count": 234
  }
 ],
 "metadata": {
  "kernelspec": {
   "display_name": "Python 3 (ipykernel)",
   "language": "python",
   "name": "python3"
  },
  "language_info": {
   "codemirror_mode": {
    "name": "ipython",
    "version": 3
   },
   "file_extension": ".py",
   "mimetype": "text/x-python",
   "name": "python",
   "nbconvert_exporter": "python",
   "pygments_lexer": "ipython3",
   "version": "3.11.5"
  }
 },
 "nbformat": 4,
 "nbformat_minor": 5
}
