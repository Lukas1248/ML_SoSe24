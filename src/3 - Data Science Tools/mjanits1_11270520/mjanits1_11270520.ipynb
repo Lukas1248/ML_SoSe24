{
 "cells": [
  {
   "cell_type": "markdown",
   "id": "170164fc",
   "metadata": {},
   "source": [
    "# Individual Assignment - Number 2\n",
    "<br>\n",
    "Dear course participant,\n",
    "\n",
    "please find attached your individual assignment for the practical lecture number 2. You have one week to complete your individual task. Please use this Jupyter Notebook to implement the solution of your task and dont forget to write down some helpful comments! The comments are usefull for us to understand your thoughs while checking your solution to the given task. \n",
    "\n",
    "After completion, please rename this file in the following format: `iliasID_matrikelNr`. For example: `mmuster_11012345`<br>\n",
    "You can rename this file through `File` $\\to$ `Rename` on the navigation bar.\n",
    "\n",
    "Upload your renamed file in ILIAS/.../Jelali - Machine Learning (ML)/Assignments/Individual Assignments <br>\n",
    "Link: https://ilu.th-koeln.de/ilias.php?baseClass=ilexercisehandlergui&cmdNode=cd:n0&cmdClass=ilObjExerciseGUI&cmd=showOverview&ref_id=184690&ass_id=9678 \n",
    "\n",
    "Additional Information:<br>\n",
    "If required, you can change the Kernel of this Notebook through `Kernel` $\\to$ `Change Kernel` on the navigation bar.\n",
    "\n",
    "**The assignment is due to 18.04.24 - 14:00**\n",
    "\n",
    "*As a small reminder:*\n",
    "\n",
    "**Do’s**\n",
    "* Form study groups (with arbitrary number of people) $\\to$ discuss and work on assignments in groups\n",
    "    - learn from each other\n",
    "    - Extensively use the internet (search engines e.g. google) and literature (papers, books, etc.) - knowledge is available everywhere! \n",
    "* Write down your own solutions \n",
    "* Write down the names of people with whom you’ve discussed the homework\n",
    "\n",
    "**Don’ts**\n",
    "* Copy solutions from others\n",
    "* Plagiarism\n",
    "\n",
    "Have fun implementing your own solution to this task! "
   ]
  },
  {
   "cell_type": "markdown",
   "id": "4572041e",
   "metadata": {},
   "source": [
    "## Individual Task\n",
    "\n",
    "In this weeks assignment, you have more freedom to work on your individual task. You already learned the basic concept of a pandas DataFrame and also some of the data handling operations. Building on this previous knowledge, your task for this week is to choose an interesting data set from the following resourses and analyze it using the methods you have already learned. You are also very welcome to use new functions that we didnt discuss during the lecture. In this case, add a short comment in your code to tell us why you used this function.\n",
    "\n",
    "Please visit the following open-source online databases to select a `multivariate` data set for your assignment:\n",
    "- http://archive.ics.uci.edu/ml/datasets.php\n",
    "- https://www.kaggle.com/datasets\n",
    "- https://www.quandl.com/search\n",
    "\n",
    "**Please note:** \n",
    "\n",
    "Make sure that your data set contain structured data, e.g. time-series data. Dont select unstructured data sets such as images or text documents! \n",
    "\n",
    "Your data set can consist of numerical or mixed (numerical and categorical) attributes. But it must be a multivariate data set.\n",
    "\n",
    "The selected data set does not have to be from the field of engineering. The most important thing is that you are interested in the data. If you are interested in the analysis of portuguese wine quality from 2009, be free to select a corresponding data set for this purpose!\n",
    "\n",
    "**Recommendations**\n",
    "\n",
    "- create a new folder for your assignment and download or copy your data set into the same folder as this jupyter notebook document\n",
    "- if your downloaded data set contain multiple data set files, please select one file to work on your assignment. \n",
    "    - only analyze and upload one single data file.\n",
    "- rename the folder in the same way as this document using `iliasID_matrikelNr`\n",
    "- you can make a .zip archive of your folder and upload your folder. \n",
    "    - make sure it contains your selected data set and this jupyter notebook document, which contains your results\n",
    "\n",
    "\n",
    "**Tasks**\n",
    "\n",
    "You should perform the following small tasks to analyze your data set:\n",
    "1. first of all describe in a markdown cell why you selected this particular data set. Explain why you find this data set interesting and what insights you would like to gain from it. Write a maximum of 10 sentences.\n",
    "2. open your data set on your computer (e.g. with a text editor or microsoft excel) and take a look on the data structure \n",
    "3. import your data set into a pandas DataFrame by using the `read_csv()` function and make a copy of it using the `copy()` function. Work on the copy for your further analysis.\n",
    "4. take a quick look into the DataFrame using the `head()`, `tail()` and `random()` functions\n",
    "5. print the data set information with pandas using the `info()` function\n",
    "6. print the statistical description of the DataFrame using the `describe()` function\n",
    "7. take a closer look into the individual column/attributes of the DataFrame. Create plots and histograms of selected attributes. (at least 2 attributes)\n",
    "8. can you see any connections between the indiviual attributes? Use the `corr()` function of pandas to calculate the correlation matrix and the `heatmap()` function of seaborn to visualize the results\n",
    "9. use the `boxplot()` function of seaborn to create boxplots\n",
    "10. select three attributes from the data set and create a `multiple subplot` using matplotlib. The subplot should be used to visualize the course of all three attributes in separate plot functions embedded in a single figure. Use the following line of code to initialize your subplots: <br>`fig, (ax1, ax2, ax3) = plt.subplots(3, 1)`\n",
    "\n",
    "At first glance, the tasks look like a lot of work. However, the individual sub-items are processed quickly. Remember that you will be working on very extensive project work in a few weeks and use this opportunity to improve your knowledge with the data science tools. Also dont forget to have fun! \n",
    "\n",
    "You have a lot of freedom in handling this weeks assignment. The work packages defined above must be processed. However, you can also edit other content at your own interest. Be creative!\n",
    "\n",
    "\n",
    "**Please upload your jupyter notebook document AND your selected dataset in ILIAS after completion of your assignment!**"
   ]
  },
  {
   "cell_type": "code",
   "execution_count": 199,
   "id": "fd95c942",
   "metadata": {
    "ExecuteTime": {
     "end_time": "2024-04-11T16:39:34.620126Z",
     "start_time": "2024-04-11T16:39:34.615781Z"
    }
   },
   "outputs": [],
   "source": [
    "# import required packages\n",
    "import numpy as np\n",
    "import pandas as pd\n",
    "import matplotlib.pyplot as plt\n",
    "import seaborn as sns\n",
    "\n",
    "# Render plots inline\n",
    "%matplotlib inline\n",
    "\n",
    "# Make the graphs a bit prettier, and bigger\n",
    "plt.rcParams['figure.figsize'] = (15, 5)"
   ]
  },
  {
   "cell_type": "markdown",
   "id": "68737daa",
   "metadata": {},
   "source": [
    "## Start working on your task here"
   ]
  },
  {
   "cell_type": "markdown",
   "source": [
    "# #1\n",
    "Ich mag sehr gerne Fahrrad fahren und habe mir deshalb das Dataset ausgesucht. Um zur TH Köln zu kommen, benutze ich selber ein Bike Sharing-Angebot und finde es deshalb interessant wie oft und bei welchen Wetterverhältnissen ein Fahrrad ausgeliehen wird. Ich möchte herausfinden bei welcher Temperatur Fahrräder am häufigsten ausgeliehen wurden."
   ],
   "metadata": {
    "collapsed": false
   },
   "id": "fbaadec578b1229c"
  },
  {
   "cell_type": "markdown",
   "source": [
    "# #2\n",
    "Mit Excel geöffnet"
   ],
   "metadata": {
    "collapsed": false
   },
   "id": "6bceb836d9d8eb4"
  },
  {
   "cell_type": "markdown",
   "source": [
    "# #3"
   ],
   "metadata": {
    "collapsed": false
   },
   "id": "9ff47cedc220eae2"
  },
  {
   "cell_type": "code",
   "outputs": [],
   "source": [
    "df = pd.read_csv('day.csv', header=0)\n",
    "data = df.copy()"
   ],
   "metadata": {
    "collapsed": false,
    "ExecuteTime": {
     "end_time": "2024-04-11T16:39:34.664280Z",
     "start_time": "2024-04-11T16:39:34.658189Z"
    }
   },
   "id": "91869c84306f4831",
   "execution_count": 200
  },
  {
   "cell_type": "markdown",
   "source": [
    "# #4"
   ],
   "metadata": {
    "collapsed": false
   },
   "id": "f177009f3f04f142"
  },
  {
   "cell_type": "code",
   "outputs": [
    {
     "data": {
      "text/plain": "   instant      dteday  season  yr  mnth  holiday  weekday  workingday  \\\n0        1  2011-01-01       1   0     1        0        6           0   \n1        2  2011-01-02       1   0     1        0        0           0   \n\n   weathersit      temp     atemp       hum  windspeed  casual  registered  \\\n0           2  0.344167  0.363625  0.805833   0.160446     331         654   \n1           2  0.363478  0.353739  0.696087   0.248539     131         670   \n\n   cnt  \n0  985  \n1  801  ",
      "text/html": "<div>\n<style scoped>\n    .dataframe tbody tr th:only-of-type {\n        vertical-align: middle;\n    }\n\n    .dataframe tbody tr th {\n        vertical-align: top;\n    }\n\n    .dataframe thead th {\n        text-align: right;\n    }\n</style>\n<table border=\"1\" class=\"dataframe\">\n  <thead>\n    <tr style=\"text-align: right;\">\n      <th></th>\n      <th>instant</th>\n      <th>dteday</th>\n      <th>season</th>\n      <th>yr</th>\n      <th>mnth</th>\n      <th>holiday</th>\n      <th>weekday</th>\n      <th>workingday</th>\n      <th>weathersit</th>\n      <th>temp</th>\n      <th>atemp</th>\n      <th>hum</th>\n      <th>windspeed</th>\n      <th>casual</th>\n      <th>registered</th>\n      <th>cnt</th>\n    </tr>\n  </thead>\n  <tbody>\n    <tr>\n      <th>0</th>\n      <td>1</td>\n      <td>2011-01-01</td>\n      <td>1</td>\n      <td>0</td>\n      <td>1</td>\n      <td>0</td>\n      <td>6</td>\n      <td>0</td>\n      <td>2</td>\n      <td>0.344167</td>\n      <td>0.363625</td>\n      <td>0.805833</td>\n      <td>0.160446</td>\n      <td>331</td>\n      <td>654</td>\n      <td>985</td>\n    </tr>\n    <tr>\n      <th>1</th>\n      <td>2</td>\n      <td>2011-01-02</td>\n      <td>1</td>\n      <td>0</td>\n      <td>1</td>\n      <td>0</td>\n      <td>0</td>\n      <td>0</td>\n      <td>2</td>\n      <td>0.363478</td>\n      <td>0.353739</td>\n      <td>0.696087</td>\n      <td>0.248539</td>\n      <td>131</td>\n      <td>670</td>\n      <td>801</td>\n    </tr>\n  </tbody>\n</table>\n</div>"
     },
     "execution_count": 201,
     "metadata": {},
     "output_type": "execute_result"
    }
   ],
   "source": [
    "data.head(2)"
   ],
   "metadata": {
    "collapsed": false,
    "ExecuteTime": {
     "end_time": "2024-04-11T16:39:34.674212Z",
     "start_time": "2024-04-11T16:39:34.665293Z"
    }
   },
   "id": "62e6826dab29ae3c",
   "execution_count": 201
  },
  {
   "cell_type": "code",
   "outputs": [
    {
     "data": {
      "text/plain": "     instant      dteday  season  yr  mnth  holiday  weekday  workingday  \\\n729      730  2012-12-30       1   1    12        0        0           0   \n730      731  2012-12-31       1   1    12        0        1           1   \n\n     weathersit      temp     atemp       hum  windspeed  casual  registered  \\\n729           1  0.255833  0.231700  0.483333   0.350754     364        1432   \n730           2  0.215833  0.223487  0.577500   0.154846     439        2290   \n\n      cnt  \n729  1796  \n730  2729  ",
      "text/html": "<div>\n<style scoped>\n    .dataframe tbody tr th:only-of-type {\n        vertical-align: middle;\n    }\n\n    .dataframe tbody tr th {\n        vertical-align: top;\n    }\n\n    .dataframe thead th {\n        text-align: right;\n    }\n</style>\n<table border=\"1\" class=\"dataframe\">\n  <thead>\n    <tr style=\"text-align: right;\">\n      <th></th>\n      <th>instant</th>\n      <th>dteday</th>\n      <th>season</th>\n      <th>yr</th>\n      <th>mnth</th>\n      <th>holiday</th>\n      <th>weekday</th>\n      <th>workingday</th>\n      <th>weathersit</th>\n      <th>temp</th>\n      <th>atemp</th>\n      <th>hum</th>\n      <th>windspeed</th>\n      <th>casual</th>\n      <th>registered</th>\n      <th>cnt</th>\n    </tr>\n  </thead>\n  <tbody>\n    <tr>\n      <th>729</th>\n      <td>730</td>\n      <td>2012-12-30</td>\n      <td>1</td>\n      <td>1</td>\n      <td>12</td>\n      <td>0</td>\n      <td>0</td>\n      <td>0</td>\n      <td>1</td>\n      <td>0.255833</td>\n      <td>0.231700</td>\n      <td>0.483333</td>\n      <td>0.350754</td>\n      <td>364</td>\n      <td>1432</td>\n      <td>1796</td>\n    </tr>\n    <tr>\n      <th>730</th>\n      <td>731</td>\n      <td>2012-12-31</td>\n      <td>1</td>\n      <td>1</td>\n      <td>12</td>\n      <td>0</td>\n      <td>1</td>\n      <td>1</td>\n      <td>2</td>\n      <td>0.215833</td>\n      <td>0.223487</td>\n      <td>0.577500</td>\n      <td>0.154846</td>\n      <td>439</td>\n      <td>2290</td>\n      <td>2729</td>\n    </tr>\n  </tbody>\n</table>\n</div>"
     },
     "execution_count": 202,
     "metadata": {},
     "output_type": "execute_result"
    }
   ],
   "source": [
    "data.tail(2)"
   ],
   "metadata": {
    "collapsed": false,
    "ExecuteTime": {
     "end_time": "2024-04-11T16:39:34.687070Z",
     "start_time": "2024-04-11T16:39:34.675220Z"
    }
   },
   "id": "b068c6334f63a868",
   "execution_count": 202
  },
  {
   "cell_type": "code",
   "outputs": [
    {
     "data": {
      "text/plain": "     instant      dteday  season  yr  mnth  holiday  weekday  workingday  \\\n724      725  2012-12-25       1   1    12        1        2           0   \n611      612  2012-09-03       3   1     9        1        1           0   \n\n     weathersit      temp     atemp       hum  windspeed  casual  registered  \\\n724           2  0.291304  0.294465  0.734783   0.168726     440         573   \n611           1  0.707500  0.661629  0.790833   0.151121    1965        4069   \n\n      cnt  \n724  1013  \n611  6034  ",
      "text/html": "<div>\n<style scoped>\n    .dataframe tbody tr th:only-of-type {\n        vertical-align: middle;\n    }\n\n    .dataframe tbody tr th {\n        vertical-align: top;\n    }\n\n    .dataframe thead th {\n        text-align: right;\n    }\n</style>\n<table border=\"1\" class=\"dataframe\">\n  <thead>\n    <tr style=\"text-align: right;\">\n      <th></th>\n      <th>instant</th>\n      <th>dteday</th>\n      <th>season</th>\n      <th>yr</th>\n      <th>mnth</th>\n      <th>holiday</th>\n      <th>weekday</th>\n      <th>workingday</th>\n      <th>weathersit</th>\n      <th>temp</th>\n      <th>atemp</th>\n      <th>hum</th>\n      <th>windspeed</th>\n      <th>casual</th>\n      <th>registered</th>\n      <th>cnt</th>\n    </tr>\n  </thead>\n  <tbody>\n    <tr>\n      <th>724</th>\n      <td>725</td>\n      <td>2012-12-25</td>\n      <td>1</td>\n      <td>1</td>\n      <td>12</td>\n      <td>1</td>\n      <td>2</td>\n      <td>0</td>\n      <td>2</td>\n      <td>0.291304</td>\n      <td>0.294465</td>\n      <td>0.734783</td>\n      <td>0.168726</td>\n      <td>440</td>\n      <td>573</td>\n      <td>1013</td>\n    </tr>\n    <tr>\n      <th>611</th>\n      <td>612</td>\n      <td>2012-09-03</td>\n      <td>3</td>\n      <td>1</td>\n      <td>9</td>\n      <td>1</td>\n      <td>1</td>\n      <td>0</td>\n      <td>1</td>\n      <td>0.707500</td>\n      <td>0.661629</td>\n      <td>0.790833</td>\n      <td>0.151121</td>\n      <td>1965</td>\n      <td>4069</td>\n      <td>6034</td>\n    </tr>\n  </tbody>\n</table>\n</div>"
     },
     "execution_count": 203,
     "metadata": {},
     "output_type": "execute_result"
    }
   ],
   "source": [
    "data.sample(2)"
   ],
   "metadata": {
    "collapsed": false,
    "ExecuteTime": {
     "end_time": "2024-04-11T16:39:34.700097Z",
     "start_time": "2024-04-11T16:39:34.688075Z"
    }
   },
   "id": "ebc9e3248997c45",
   "execution_count": 203
  },
  {
   "cell_type": "markdown",
   "source": [
    "# #5"
   ],
   "metadata": {
    "collapsed": false
   },
   "id": "3571a63858c0f609"
  },
  {
   "cell_type": "code",
   "outputs": [
    {
     "name": "stdout",
     "output_type": "stream",
     "text": [
      "<class 'pandas.core.frame.DataFrame'>\n",
      "RangeIndex: 731 entries, 0 to 730\n",
      "Data columns (total 16 columns):\n",
      " #   Column      Non-Null Count  Dtype  \n",
      "---  ------      --------------  -----  \n",
      " 0   instant     731 non-null    int64  \n",
      " 1   dteday      731 non-null    object \n",
      " 2   season      731 non-null    int64  \n",
      " 3   yr          731 non-null    int64  \n",
      " 4   mnth        731 non-null    int64  \n",
      " 5   holiday     731 non-null    int64  \n",
      " 6   weekday     731 non-null    int64  \n",
      " 7   workingday  731 non-null    int64  \n",
      " 8   weathersit  731 non-null    int64  \n",
      " 9   temp        731 non-null    float64\n",
      " 10  atemp       731 non-null    float64\n",
      " 11  hum         731 non-null    float64\n",
      " 12  windspeed   731 non-null    float64\n",
      " 13  casual      731 non-null    int64  \n",
      " 14  registered  731 non-null    int64  \n",
      " 15  cnt         731 non-null    int64  \n",
      "dtypes: float64(4), int64(11), object(1)\n",
      "memory usage: 91.5+ KB\n"
     ]
    }
   ],
   "source": [
    "data.info()"
   ],
   "metadata": {
    "collapsed": false,
    "ExecuteTime": {
     "end_time": "2024-04-11T16:39:34.710215Z",
     "start_time": "2024-04-11T16:39:34.701109Z"
    }
   },
   "id": "ba0e959f3709e804",
   "execution_count": 204
  },
  {
   "cell_type": "markdown",
   "source": [
    "# #6"
   ],
   "metadata": {
    "collapsed": false
   },
   "id": "8c93ecea178af92e"
  },
  {
   "cell_type": "code",
   "outputs": [
    {
     "data": {
      "text/plain": "          instant      season          yr        mnth     holiday     weekday  \\\ncount  731.000000  731.000000  731.000000  731.000000  731.000000  731.000000   \nmean   366.000000    2.496580    0.500684    6.519836    0.028728    2.997264   \nstd    211.165812    1.110807    0.500342    3.451913    0.167155    2.004787   \nmin      1.000000    1.000000    0.000000    1.000000    0.000000    0.000000   \n25%    183.500000    2.000000    0.000000    4.000000    0.000000    1.000000   \n50%    366.000000    3.000000    1.000000    7.000000    0.000000    3.000000   \n75%    548.500000    3.000000    1.000000   10.000000    0.000000    5.000000   \nmax    731.000000    4.000000    1.000000   12.000000    1.000000    6.000000   \n\n       workingday  weathersit        temp       atemp         hum   windspeed  \\\ncount  731.000000  731.000000  731.000000  731.000000  731.000000  731.000000   \nmean     0.683995    1.395349    0.495385    0.474354    0.627894    0.190486   \nstd      0.465233    0.544894    0.183051    0.162961    0.142429    0.077498   \nmin      0.000000    1.000000    0.059130    0.079070    0.000000    0.022392   \n25%      0.000000    1.000000    0.337083    0.337842    0.520000    0.134950   \n50%      1.000000    1.000000    0.498333    0.486733    0.626667    0.180975   \n75%      1.000000    2.000000    0.655417    0.608602    0.730209    0.233214   \nmax      1.000000    3.000000    0.861667    0.840896    0.972500    0.507463   \n\n            casual   registered          cnt  \ncount   731.000000   731.000000   731.000000  \nmean    848.176471  3656.172367  4504.348837  \nstd     686.622488  1560.256377  1937.211452  \nmin       2.000000    20.000000    22.000000  \n25%     315.500000  2497.000000  3152.000000  \n50%     713.000000  3662.000000  4548.000000  \n75%    1096.000000  4776.500000  5956.000000  \nmax    3410.000000  6946.000000  8714.000000  ",
      "text/html": "<div>\n<style scoped>\n    .dataframe tbody tr th:only-of-type {\n        vertical-align: middle;\n    }\n\n    .dataframe tbody tr th {\n        vertical-align: top;\n    }\n\n    .dataframe thead th {\n        text-align: right;\n    }\n</style>\n<table border=\"1\" class=\"dataframe\">\n  <thead>\n    <tr style=\"text-align: right;\">\n      <th></th>\n      <th>instant</th>\n      <th>season</th>\n      <th>yr</th>\n      <th>mnth</th>\n      <th>holiday</th>\n      <th>weekday</th>\n      <th>workingday</th>\n      <th>weathersit</th>\n      <th>temp</th>\n      <th>atemp</th>\n      <th>hum</th>\n      <th>windspeed</th>\n      <th>casual</th>\n      <th>registered</th>\n      <th>cnt</th>\n    </tr>\n  </thead>\n  <tbody>\n    <tr>\n      <th>count</th>\n      <td>731.000000</td>\n      <td>731.000000</td>\n      <td>731.000000</td>\n      <td>731.000000</td>\n      <td>731.000000</td>\n      <td>731.000000</td>\n      <td>731.000000</td>\n      <td>731.000000</td>\n      <td>731.000000</td>\n      <td>731.000000</td>\n      <td>731.000000</td>\n      <td>731.000000</td>\n      <td>731.000000</td>\n      <td>731.000000</td>\n      <td>731.000000</td>\n    </tr>\n    <tr>\n      <th>mean</th>\n      <td>366.000000</td>\n      <td>2.496580</td>\n      <td>0.500684</td>\n      <td>6.519836</td>\n      <td>0.028728</td>\n      <td>2.997264</td>\n      <td>0.683995</td>\n      <td>1.395349</td>\n      <td>0.495385</td>\n      <td>0.474354</td>\n      <td>0.627894</td>\n      <td>0.190486</td>\n      <td>848.176471</td>\n      <td>3656.172367</td>\n      <td>4504.348837</td>\n    </tr>\n    <tr>\n      <th>std</th>\n      <td>211.165812</td>\n      <td>1.110807</td>\n      <td>0.500342</td>\n      <td>3.451913</td>\n      <td>0.167155</td>\n      <td>2.004787</td>\n      <td>0.465233</td>\n      <td>0.544894</td>\n      <td>0.183051</td>\n      <td>0.162961</td>\n      <td>0.142429</td>\n      <td>0.077498</td>\n      <td>686.622488</td>\n      <td>1560.256377</td>\n      <td>1937.211452</td>\n    </tr>\n    <tr>\n      <th>min</th>\n      <td>1.000000</td>\n      <td>1.000000</td>\n      <td>0.000000</td>\n      <td>1.000000</td>\n      <td>0.000000</td>\n      <td>0.000000</td>\n      <td>0.000000</td>\n      <td>1.000000</td>\n      <td>0.059130</td>\n      <td>0.079070</td>\n      <td>0.000000</td>\n      <td>0.022392</td>\n      <td>2.000000</td>\n      <td>20.000000</td>\n      <td>22.000000</td>\n    </tr>\n    <tr>\n      <th>25%</th>\n      <td>183.500000</td>\n      <td>2.000000</td>\n      <td>0.000000</td>\n      <td>4.000000</td>\n      <td>0.000000</td>\n      <td>1.000000</td>\n      <td>0.000000</td>\n      <td>1.000000</td>\n      <td>0.337083</td>\n      <td>0.337842</td>\n      <td>0.520000</td>\n      <td>0.134950</td>\n      <td>315.500000</td>\n      <td>2497.000000</td>\n      <td>3152.000000</td>\n    </tr>\n    <tr>\n      <th>50%</th>\n      <td>366.000000</td>\n      <td>3.000000</td>\n      <td>1.000000</td>\n      <td>7.000000</td>\n      <td>0.000000</td>\n      <td>3.000000</td>\n      <td>1.000000</td>\n      <td>1.000000</td>\n      <td>0.498333</td>\n      <td>0.486733</td>\n      <td>0.626667</td>\n      <td>0.180975</td>\n      <td>713.000000</td>\n      <td>3662.000000</td>\n      <td>4548.000000</td>\n    </tr>\n    <tr>\n      <th>75%</th>\n      <td>548.500000</td>\n      <td>3.000000</td>\n      <td>1.000000</td>\n      <td>10.000000</td>\n      <td>0.000000</td>\n      <td>5.000000</td>\n      <td>1.000000</td>\n      <td>2.000000</td>\n      <td>0.655417</td>\n      <td>0.608602</td>\n      <td>0.730209</td>\n      <td>0.233214</td>\n      <td>1096.000000</td>\n      <td>4776.500000</td>\n      <td>5956.000000</td>\n    </tr>\n    <tr>\n      <th>max</th>\n      <td>731.000000</td>\n      <td>4.000000</td>\n      <td>1.000000</td>\n      <td>12.000000</td>\n      <td>1.000000</td>\n      <td>6.000000</td>\n      <td>1.000000</td>\n      <td>3.000000</td>\n      <td>0.861667</td>\n      <td>0.840896</td>\n      <td>0.972500</td>\n      <td>0.507463</td>\n      <td>3410.000000</td>\n      <td>6946.000000</td>\n      <td>8714.000000</td>\n    </tr>\n  </tbody>\n</table>\n</div>"
     },
     "execution_count": 205,
     "metadata": {},
     "output_type": "execute_result"
    }
   ],
   "source": [
    "data.describe()"
   ],
   "metadata": {
    "collapsed": false,
    "ExecuteTime": {
     "end_time": "2024-04-11T16:39:34.736210Z",
     "start_time": "2024-04-11T16:39:34.711148Z"
    }
   },
   "id": "a5cf0d524b3fe562",
   "execution_count": 205
  },
  {
   "cell_type": "markdown",
   "source": [
    "# #7"
   ],
   "metadata": {
    "collapsed": false
   },
   "id": "66e2922a153d5566"
  },
  {
   "cell_type": "code",
   "outputs": [
    {
     "data": {
      "text/plain": "<Axes: xlabel='season', ylabel='count'>"
     },
     "execution_count": 206,
     "metadata": {},
     "output_type": "execute_result"
    },
    {
     "data": {
      "text/plain": "<Figure size 1500x500 with 1 Axes>",
      "image/png": "[encoded data removed]"
     },
     "metadata": {},
     "output_type": "display_data"
    }
   ],
   "source": [
    "sns.countplot(x = 'season', data = data)\n",
    "season_dict = {1: 'winter', 2: 'spring', 3: 'summer', 4: 'fall'}"
   ],
   "metadata": {
    "collapsed": false,
    "ExecuteTime": {
     "end_time": "2024-04-11T16:39:34.867443Z",
     "start_time": "2024-04-11T16:39:34.737219Z"
    }
   },
   "id": "3bd372ec525993a6",
   "execution_count": 206
  },
  {
   "cell_type": "code",
   "outputs": [],
   "source": [],
   "metadata": {
    "collapsed": false,
    "ExecuteTime": {
     "end_time": "2024-04-11T16:39:34.870706Z",
     "start_time": "2024-04-11T16:39:34.868451Z"
    }
   },
   "id": "1813aab30e453d45",
   "execution_count": 206
  }
 ],
 "metadata": {
  "kernelspec": {
   "display_name": "Python 3 (ipykernel)",
   "language": "python",
   "name": "python3"
  },
  "language_info": {
   "codemirror_mode": {
    "name": "ipython",
    "version": 3
   },
   "file_extension": ".py",
   "mimetype": "text/x-python",
   "name": "python",
   "nbconvert_exporter": "python",
   "pygments_lexer": "ipython3",
   "version": "3.11.5"
  }
 },
 "nbformat": 4,
 "nbformat_minor": 5
}
