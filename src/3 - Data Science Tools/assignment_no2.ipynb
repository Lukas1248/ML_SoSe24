{
 "cells": [
  {
   "cell_type": "markdown",
   "id": "170164fc",
   "metadata": {},
   "source": [
    "# Individual Assignment - Number 2\n",
    "<br>\n",
    "Dear course participant,\n",
    "\n",
    "please find attached your individual assignment for the practical lecture number 2. You have one week to complete your individual task. Please use this Jupyter Notebook to implement the solution of your task and dont forget to write down some helpful comments! The comments are usefull for us to understand your thoughs while checking your solution to the given task. \n",
    "\n",
    "After completion, please rename this file in the following format: `iliasID_matrikelNr`. For example: `mmuster_11012345`<br>\n",
    "You can rename this file through `File` $\\to$ `Rename` on the navigation bar.\n",
    "\n",
    "Upload your renamed file in ILIAS/.../Jelali - Machine Learning (ML)/Assignments/Individual Assignments <br>\n",
    "Link: https://ilu.th-koeln.de/ilias.php?baseClass=ilexercisehandlergui&cmdNode=cd:n0&cmdClass=ilObjExerciseGUI&cmd=showOverview&ref_id=184690&ass_id=9678 \n",
    "\n",
    "Additional Information:<br>\n",
    "If required, you can change the Kernel of this Notebook through `Kernel` $\\to$ `Change Kernel` on the navigation bar.\n",
    "\n",
    "**The assignment is due to 18.04.24 - 14:00**\n",
    "\n",
    "*As a small reminder:*\n",
    "\n",
    "**Do’s**\n",
    "* Form study groups (with arbitrary number of people) $\\to$ discuss and work on assignments in groups\n",
    "    - learn from each other\n",
    "    - Extensively use the internet (search engines e.g. google) and literature (papers, books, etc.) - knowledge is available everywhere! \n",
    "* Write down your own solutions \n",
    "* Write down the names of people with whom you’ve discussed the homework\n",
    "\n",
    "**Don’ts**\n",
    "* Copy solutions from others\n",
    "* Plagiarism\n",
    "\n",
    "Have fun implementing your own solution to this task! "
   ]
  },
  {
   "cell_type": "markdown",
   "id": "4572041e",
   "metadata": {},
   "source": [
    "## Individual Task\n",
    "\n",
    "In this weeks assignment, you have more freedom to work on your individual task. You already learned the basic concept of a pandas DataFrame and also some of the data handling operations. Building on this previous knowledge, your task for this week is to choose an interesting data set from the following resourses and analyze it using the methods you have already learned. You are also very welcome to use new functions that we didnt discuss during the lecture. In this case, add a short comment in your code to tell us why you used this function.\n",
    "\n",
    "Please visit the following open-source online databases to select a `multivariate` data set for your assignment:\n",
    "- http://archive.ics.uci.edu/ml/datasets.php\n",
    "- https://www.kaggle.com/datasets\n",
    "- https://www.quandl.com/search\n",
    "\n",
    "**Please note:** \n",
    "\n",
    "Make sure that your data set contain structured data, e.g. time-series data. Dont select unstructured data sets such as images or text documents! \n",
    "\n",
    "Your data set can consist of numerical or mixed (numerical and categorical) attributes. But it must be a multivariate data set.\n",
    "\n",
    "The selected data set does not have to be from the field of engineering. The most important thing is that you are interested in the data. If you are interested in the analysis of portuguese wine quality from 2009, be free to select a corresponding data set for this purpose!\n",
    "\n",
    "**Recommendations**\n",
    "\n",
    "- create a new folder for your assignment and download or copy your data set into the same folder as this jupyter notebook document\n",
    "- if your downloaded data set contain multiple data set files, please select one file to work on your assignment. \n",
    "    - only analyze and upload one single data file.\n",
    "- rename the folder in the same way as this document using `iliasID_matrikelNr`\n",
    "- you can make a .zip archive of your folder and upload your folder. \n",
    "    - make sure it contains your selected data set and this jupyter notebook document, which contains your results\n",
    "\n",
    "\n",
    "**Tasks**\n",
    "\n",
    "You should perform the following small tasks to analyze your data set:\n",
    "1. first of all describe in a markdown cell why you selected this particular data set. Explain why you find this data set interesting and what insights you would like to gain from it. Write a maximum of 10 sentences.\n",
    "2. open your data set on your computer (e.g. with a text editor or microsoft excel) and take a look on the data structure \n",
    "3. import your data set into a pandas DataFrame by using the `read_csv()` function and make a copy of it using the `copy()` function. Work on the copy for your further analysis.\n",
    "4. take a quick look into the DataFrame using the `head()`, `tail()` and `random()` functions\n",
    "5. print the data set information with pandas using the `info()` function\n",
    "6. print the statistical description of the DataFrame using the `describe()` function\n",
    "7. take a closer look into the individual column/attributes of the DataFrame. Create plots and histograms of selected attributes. (at least 2 attributes)\n",
    "8. can you see any connections between the indiviual attributes? Use the `corr()` function of pandas to calculate the correlation matrix and the `heatmap()` function of seaborn to visualize the results\n",
    "9. use the `boxplot()` function of seaborn to create boxplots\n",
    "10. select three attributes from the data set and create a `multiple subplot` using matplotlib. The subplot should be used to visualize the course of all three attributes in separate plot functions embedded in a single figure. Use the following line of code to initialize your subplots: <br>`fig, (ax1, ax2, ax3) = plt.subplots(3, 1)`\n",
    "\n",
    "At first glance, the tasks look like a lot of work. However, the individual sub-items are processed quickly. Remember that you will be working on very extensive project work in a few weeks and use this opportunity to improve your knowledge with the data science tools. Also dont forget to have fun! \n",
    "\n",
    "You have a lot of freedom in handling this weeks assignment. The work packages defined above must be processed. However, you can also edit other content at your own interest. Be creative!\n",
    "\n",
    "\n",
    "**Please upload your jupyter notebook document AND your selected dataset in ILIAS after completion of your assignment!**"
   ]
  },
  {
   "cell_type": "code",
   "execution_count": 1,
   "id": "fd95c942",
   "metadata": {},
   "outputs": [],
   "source": [
    "# import required packages\n",
    "import numpy as np\n",
    "import pandas as pd\n",
    "import matplotlib.pyplot as plt\n",
    "import seaborn as sns\n",
    "\n",
    "# Render plots inline\n",
    "%matplotlib inline\n",
    "\n",
    "# Make the graphs a bit prettier, and bigger\n",
    "plt.rcParams['figure.figsize'] = (15, 5)"
   ]
  },
  {
   "cell_type": "markdown",
   "id": "68737daa",
   "metadata": {},
   "source": [
    "## Start working on your task here"
   ]
  },
  {
   "cell_type": "code",
   "execution_count": null,
   "id": "6f5ac4f4",
   "metadata": {},
   "outputs": [],
   "source": []
  }
 ],
 "metadata": {
  "kernelspec": {
   "display_name": "Python 3 (ipykernel)",
   "language": "python",
   "name": "python3"
  },
  "language_info": {
   "codemirror_mode": {
    "name": "ipython",
    "version": 3
   },
   "file_extension": ".py",
   "mimetype": "text/x-python",
   "name": "python",
   "nbconvert_exporter": "python",
   "pygments_lexer": "ipython3",
   "version": "3.11.5"
  }
 },
 "nbformat": 4,
 "nbformat_minor": 5
}
