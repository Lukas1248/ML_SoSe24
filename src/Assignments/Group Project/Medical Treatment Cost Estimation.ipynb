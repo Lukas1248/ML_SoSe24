{
 "cells": [
  {
   "cell_type": "markdown",
   "id": "dynamic-robertson",
   "metadata": {},
   "source": [
    "# Medical Treatment Cost Forecasting\n",
    "\n",
    "**Link**\n",
    "\n",
    "https://www.kaggle.com/mirichoi0218/insurance\n",
    "\n",
    "\n",
    "**Context**\n",
    "\n",
    "This dataset contains the cost of medical treatment of different patients.\n",
    "\n",
    "\n",
    "**Content**\n",
    "\n",
    "The cost of treatment depends on many factors: diagnosis, type of clinic, city of residence, age and so on. We have no data on the diagnosis of patients. But we have other information that can help us to make a conclusion about the health of patients and predict the cost of medical treatment by using regression analysis.\n",
    "\n",
    "The dataset consists of the following attributes:\n",
    "- age: age of primary beneficiary\n",
    "- sex: insurance contractor gender, female, male\n",
    "- bmi: body mass index, providing an understanding of body, weights that are relatively high or low relative to height\n",
    "- children: number of children covered by health insurance / Number of dependents\n",
    "- smoker: smoking (0: no, 1: yes)\n",
    "- region: the beneficiary's residential area in the US, northeast, southeast, southwest, northwest.\n",
    "- charges: individual medical costs billed by health insurance\n",
    "\n",
    "The `charges` attribute is our target variable, which should be predicted depending on new patient informations.\n",
    "\n",
    "**Task (Regression)**\n",
    "\n",
    "Your task is to use the present data set to predict the cost of medical treatment for new patients. To do this, use the `Linear Regression` and `SVR` methods for this task. You must also include a third method that you have selected yourself.\n",
    "\n",
    "First of all, get an overview of the project in your group. Then carefully read the checklist for machine learning projects and think about how you want to organize your group work. It is strongly recommended that all task items are completed by all group members. You can divide the focus among yourself, but make sure that all members are as well informed as possible about the content.\n",
    "\n",
    "Use the checklist for machine learning projects as a guide when working on the task. Document all the individual steps that are listed there (main and sub-items). Make sure to use Markdown Cells for your documentation. Document the functionality of your algorithms (all three) with equations and explanations. Dont forget, this project is a task for five students. We expect a detailed documentation of your approach and your results.\n",
    "\n",
    "**Note**\n",
    "\n",
    "We are aware that there are examples and solutions for the selected data sets on popular platforms, e.g. Kaggle. You are welcome to use them as a guide. But remember that at the end of the project, your own work will be assessed. We compare the results with the popular solutions of common platforms. We would like to recognize the independence in your work and see a difference to the existing solution approaches."
   ]
  },
  {
   "cell_type": "code",
   "execution_count": null,
   "id": "happy-rating",
   "metadata": {},
   "outputs": [],
   "source": []
  }
 ],
 "metadata": {
  "kernelspec": {
   "display_name": "Python 3 (ipykernel)",
   "language": "python",
   "name": "python3"
  },
  "language_info": {
   "codemirror_mode": {
    "name": "ipython",
    "version": 3
   },
   "file_extension": ".py",
   "mimetype": "text/x-python",
   "name": "python",
   "nbconvert_exporter": "python",
   "pygments_lexer": "ipython3",
   "version": "3.11.5"
  }
 },
 "nbformat": 4,
 "nbformat_minor": 5
}
