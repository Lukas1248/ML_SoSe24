{
 "cells": [
  {
   "cell_type": "markdown",
   "id": "level-documentation",
   "metadata": {},
   "source": [
    "**Machine Learning** <br/>\n",
    "\n",
    "**Toolchain Tutorial Part 2 : Python Basics** <br/>"
   ]
  },
  {
   "cell_type": "markdown",
   "id": "specialized-squad",
   "metadata": {},
   "source": [
    "# Python Exercises"
   ]
  },
  {
   "cell_type": "markdown",
   "id": "configured-biotechnology",
   "metadata": {},
   "source": [
    "Programming is best learned through individual application! For this reason, it is recommended that you work on online exercises and write your own programms to unterstand the snythax and functions of Python. \n",
    "\n",
    "We recommend start working on the following exercises first to learn the basics in a interactive way:\n",
    "https://www.w3schools.com/python/exercise.asp\n",
    "\n",
    "If you have questions:\n",
    "* first look at the specific topic on https://www.w3schools.com/python/\n",
    "* if you could not solve the question by yourself, ask the teaching staff."
   ]
  },
  {
   "cell_type": "markdown",
   "id": "coordinate-apparatus",
   "metadata": {},
   "source": [
    "## Intermediate Python Exercises\n",
    "\n",
    "After the completition of the above mentioned Python exercises you can also work on the following tasks to get a better unterstanding of Python programms."
   ]
  },
  {
   "cell_type": "markdown",
   "id": "determined-wyoming",
   "metadata": {},
   "source": [
    "### Task 1: Hello!, everybody\n",
    "\n",
    "Write a for loop which print `\"Hello!, \"` plus each name in the list. i.e.: `\"Hello!, Max\"`\n",
    "\n",
    "After that implement your for loop into a function which takes a list of names as input and prints `\"Hello!, \"` as described above."
   ]
  },
  {
   "cell_type": "code",
   "execution_count": 13,
   "id": "selective-calculator",
   "metadata": {
    "ExecuteTime": {
     "end_time": "2024-03-28T15:31:06.003783Z",
     "start_time": "2024-03-28T15:31:06.000898Z"
    }
   },
   "outputs": [],
   "source": [
    "listOfNames = ['Max', 'Leonie', 'Alex', 'Sam', 'Luna']\n"
   ]
  },
  {
   "cell_type": "markdown",
   "id": "affecting-queue",
   "metadata": {},
   "source": [
    "### Task 2: Append square numbers\n",
    "\n",
    "Write a for loop which appends the square of each number of list `listOfNumbers` to the new list `listOfSquares`.\n"
   ]
  },
  {
   "cell_type": "code",
   "execution_count": 14,
   "id": "still-tunnel",
   "metadata": {
    "ExecuteTime": {
     "end_time": "2024-03-28T15:31:06.022660Z",
     "start_time": "2024-03-28T15:31:06.019816Z"
    }
   },
   "outputs": [],
   "source": [
    "listOfNumbers=[3, 7, 6, 8, 9, 11, 15, 25]\n",
    "listOfSquares=[]\n"
   ]
  },
  {
   "cell_type": "markdown",
   "id": "accomplished-romance",
   "metadata": {},
   "source": [
    "### Task 3: Mean and variance\n",
    "\n",
    "**Task:**\n",
    "\n",
    "Write a function that takes a list of numbers as an argument and returns mean and variance of the list.\n",
    "\n",
    "Calculation of the mean:\n",
    "\n",
    "$\\mu = \\frac{1}{n} \\cdot \\sum_{i=1}^{n} x_\\mathrm i$ &emsp;&emsp;&emsp;&emsp;&emsp;&emsp; with n = len(listOfNumbers)\n",
    "\n",
    "Calculation of the variance:\n",
    "\n",
    "$\\sigma^2 = \\frac{1}{n} \\cdot \\sum_{i=1}^{n}(x_\\mathrm{i} - \\mu)^2 $ &emsp;&emsp; with n = len(listOfNumbers)\n",
    "\n",
    "**Steps:**\n",
    "1. write and debug your code \n",
    "2. validate the functionality of your code\n",
    "3. convert your code into a function\n",
    "\n",
    "**Hints:**\n",
    "* you can determine the lenght of an object with the `len()` function\n",
    "* use variables to save intermediate results of the calculation steps"
   ]
  },
  {
   "cell_type": "code",
   "execution_count": 15,
   "id": "passive-execution",
   "metadata": {
    "ExecuteTime": {
     "end_time": "2024-03-28T15:31:06.030435Z",
     "start_time": "2024-03-28T15:31:06.023666Z"
    }
   },
   "outputs": [],
   "source": [
    "listOfNumbers = [1, 2, 3, 4, 5, 6, 7, 8, 9]\n"
   ]
  },
  {
   "cell_type": "markdown",
   "id": "ahead-criticism",
   "metadata": {},
   "source": [
    "### Task 4: Calculator\n",
    "\n",
    "**Task:** \n",
    "\n",
    "Write a function of a simplified calculator which provides following math operations: addition, subtraction, multiplication and division with two input variables. Use the code listed below to complete the task. You need to write your own functions for subtraction, multiplication and division. After that, you need to add a new argument (input variable) for the function `calculator`, which should be used to implement the logic behind the selection of different math operations. \n",
    "\n",
    "At the moment the calculator can only do additions!\n",
    "\n",
    "**Steps:**\n",
    "1. write individual functions for the math operations: subtraction, multiplication and division\n",
    "2. debug and validate the functionality of your code\n",
    "3. implement your math operation functions into the function `calculator`. Add a new argument (input variable) for math operation selection.\n"
   ]
  },
  {
   "cell_type": "code",
   "execution_count": 16,
   "id": "norwegian-compound",
   "metadata": {
    "ExecuteTime": {
     "end_time": "2024-03-28T15:31:06.040292Z",
     "start_time": "2024-03-28T15:31:06.031442Z"
    }
   },
   "outputs": [
    {
     "data": {
      "text/plain": "6"
     },
     "execution_count": 16,
     "metadata": {},
     "output_type": "execute_result"
    }
   ],
   "source": [
    "# function for addition operation\n",
    "def addition(num1, num2):\n",
    "    return num1 + num2\n",
    "\n",
    "# function of the calculator\n",
    "def calculator(num1, num2):\n",
    "    result = addition(num1, num2)\n",
    "    \n",
    "    return result\n",
    "\n",
    "# test\n",
    "calculator(2,4)\n"
   ]
  },
  {
   "cell_type": "markdown",
   "id": "scheduled-friendship",
   "metadata": {},
   "source": [
    "### Task 5: List Sorting\n",
    "\n",
    "You have the following list of numbers as an input:\n",
    "\n",
    "aList = [3, 14, 1, 3.56, 6, 86, 0.35, 45, 2, 9] \n",
    "\n",
    "**Task:** \n",
    "\n",
    "Write a function to sort the list in ascending order.\n",
    "\n",
    "**Steps:**\n",
    "1. write and debug your code \n",
    "2. validate the functionality of your code\n",
    "3. convert your code into a function\n",
    "\n",
    "**Hints:**\n",
    "* you can determine the lenght of an object with the `len()` function\n",
    "* work out an idea for sorting the list and use control structures for implementation of the logic"
   ]
  },
  {
   "cell_type": "code",
   "execution_count": 17,
   "id": "identical-orleans",
   "metadata": {
    "ExecuteTime": {
     "end_time": "2024-03-28T15:31:06.047605Z",
     "start_time": "2024-03-28T15:31:06.042301Z"
    }
   },
   "outputs": [],
   "source": [
    "aList = [3, 14, 1, 3.56, 6, 86, 0.35, 45, 2, 9]\n"
   ]
  },
  {
   "cell_type": "markdown",
   "id": "strange-location",
   "metadata": {},
   "source": [
    "**expected output:** <br>\n",
    "[0.35, 1, 2, 3, 3.56, 6, 9, 14, 45, 86]"
   ]
  },
  {
   "cell_type": "markdown",
   "id": "younger-promise",
   "metadata": {},
   "source": [
    "### Task 6: Find highest values in dictionaries\n",
    "\n",
    "**Task:**\n",
    "\n",
    "Write a Python function to find the keys of the highest 3 values in a given dictionary.\n",
    "\n",
    "**Steps:**\n",
    "1. write and debug your code \n",
    "2. validate the functionality of your code\n",
    "3. convert your code into a function\n",
    "\n",
    "**Hints:**\n",
    "* you can use the `max()` function to determine the maximum of an object"
   ]
  },
  {
   "cell_type": "code",
   "execution_count": 18,
   "id": "designed-reliance",
   "metadata": {
    "ExecuteTime": {
     "end_time": "2024-03-28T15:31:06.055622Z",
     "start_time": "2024-03-28T15:31:06.047605Z"
    }
   },
   "outputs": [],
   "source": [
    "my_dict = {'a':500, 'b':5874, 'c':560,'d':400, 'e':5824, 'f':20}\n",
    "\n",
    "def findKeys(dict):\n",
    "    listOfKeys = []\n",
    "    \n",
    "    # write your code here\n",
    "\n",
    "findKeys(my_dict)"
   ]
  },
  {
   "cell_type": "markdown",
   "id": "answering-scholar",
   "metadata": {},
   "source": [
    "**expected output:** <br>\n",
    "['b', 'e', 'c']"
   ]
  },
  {
   "cell_type": "code",
   "execution_count": 18,
   "id": "another-triple",
   "metadata": {
    "ExecuteTime": {
     "end_time": "2024-03-28T15:31:06.059669Z",
     "start_time": "2024-03-28T15:31:06.056631Z"
    }
   },
   "outputs": [],
   "source": []
  }
 ],
 "metadata": {
  "kernelspec": {
   "display_name": "Python 3 (ipykernel)",
   "language": "python",
   "name": "python3"
  },
  "language_info": {
   "codemirror_mode": {
    "name": "ipython",
    "version": 3
   },
   "file_extension": ".py",
   "mimetype": "text/x-python",
   "name": "python",
   "nbconvert_exporter": "python",
   "pygments_lexer": "ipython3",
   "version": "3.11.5"
  }
 },
 "nbformat": 4,
 "nbformat_minor": 5
}
