{
 "cells": [
  {
   "cell_type": "markdown",
   "id": "recent-retreat",
   "metadata": {},
   "source": [
    "# Individual Assignment - Week 2\n",
    "<br>\n",
    "Dear course participant,\n",
    "\n",
    "please find attached your individual assignment for the theoretical lecture of week 2. You have one week to complete your individual task. Please use this Jupyter Notebook to implement the solution of your task and dont forget to write down some helpful comments! The comments are usefull for us to understand your thoughs while checking your solution to the given task. \n",
    "\n",
    "After completion, please rename this file in the following format: `iliasID_matrikelNr`. For example: `mmuster_11012345`<br>\n",
    "You can rename this file through `File` $\\to$ `Rename` on the navigation bar.\n",
    "\n",
    "Upload your renamed file in ILU/.../Machine Learning (SoSe24)/Assignments/Individual Assignments <br>\n",
    "Link: https://ilu.th-koeln.de/goto.php?target=exc_184690&client_id=thkilu\n",
    "\n",
    "Additional Information:<br>\n",
    "If required, you can change the Kernel of this Notebook through `Kernel` $\\to$ `Change Kernel` on the navigation bar.\n",
    "\n",
    "**The assignment is due to 04.04.24 - 15:00**\n",
    "\n",
    "*As a small reminder:*\n",
    "\n",
    "**Do’s**\n",
    "* Form study groups (with arbitrary number of people) $\\to$ discuss and work on assignments in groups\n",
    "    - learn from each other\n",
    "    - Extensively use the internet (search engines e.g. google) and literature (papers, books, etc.) - knowledge is available everywhere! \n",
    "* Write down your own solutions \n",
    "* Write down the names of people with whom you’ve discussed the homework\n",
    "\n",
    "**Don’ts**\n",
    "* Copy solutions from others\n",
    "* Plagiarism\n",
    "\n",
    "Have fun implementing your own solution to this task! "
   ]
  },
  {
   "cell_type": "markdown",
   "id": "collectible-function",
   "metadata": {},
   "source": [
    "## Individual Task\n",
    "Write a function which takes a list of numbers `listNum` as a argument (input parameter) and returns the median of the list. <br>\n",
    "The function should also print the median.\n",
    "\n",
    "The median is the value separating the higher half from the lower half of a data sample, in this case a list of numbers:\n",
    "* the median of a sorted list of odd length is its middle element\n",
    "* the median of a sorted list of even length is the mean of its two middle elements \n",
    "\n",
    "**For example:** <br>\n",
    "listNum = [3, 8, 1, 9, 5, 78]\n",
    "\n",
    "expected output: <br>\n",
    "`The median of the list [3, 8, 1, 9, 5, 78] is 6.5!`"
   ]
  },
  {
   "cell_type": "code",
   "execution_count": 8,
   "id": "catholic-potential",
   "metadata": {
    "ExecuteTime": {
     "end_time": "2024-03-28T17:17:58.318081Z",
     "start_time": "2024-03-28T17:17:58.314468Z"
    }
   },
   "outputs": [
    {
     "name": "stdout",
     "output_type": "stream",
     "text": [
      "6.5\n"
     ]
    }
   ],
   "source": [
    "def calcMedian(listNum):\n",
    "    sorted_numbers = sorted(listNum)\n",
    "    n = len(sorted_numbers) #  Länge der Liste in n schreiben\n",
    "\n",
    "    if n % 2 == 0:\n",
    "        # Wenn die Anzahl der Elemente gerade ist, nehmen wir den Durchschnitt der beiden mittleren Zahlen\n",
    "        middle_left = sorted_numbers[n // 2 - 1]\n",
    "        middle_right = sorted_numbers[n // 2]\n",
    "        median = (middle_left + middle_right) / 2\n",
    "    else:\n",
    "        # Wenn die Anzahl der Elemente ungerade ist, nehmen wir das mittlere Element\n",
    "        median = sorted_numbers[n // 2] \n",
    "\n",
    "    print(median)\n",
    "\n",
    "listNum = [3, 8, 1, 9, 5, 78]\n",
    "calcMedian(listNum)"
   ]
  }
 ],
 "metadata": {
  "kernelspec": {
   "display_name": "Python 3 (ipykernel)",
   "language": "python",
   "name": "python3"
  },
  "language_info": {
   "codemirror_mode": {
    "name": "ipython",
    "version": 3
   },
   "file_extension": ".py",
   "mimetype": "text/x-python",
   "name": "python",
   "nbconvert_exporter": "python",
   "pygments_lexer": "ipython3",
   "version": "3.11.5"
  }
 },
 "nbformat": 4,
 "nbformat_minor": 5
}
