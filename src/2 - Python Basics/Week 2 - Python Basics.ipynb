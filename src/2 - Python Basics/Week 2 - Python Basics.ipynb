{
 "cells": [
  {
   "cell_type": "markdown",
   "id": "documentary-sensitivity",
   "metadata": {},
   "source": [
    "**Machine Learning** <br/>\n",
    "\n",
    "**Toolchain Tutorial Part 2 : Python Basics** <br/>\n",
    "\n",
    "Resources:\n",
    "- https://www.python.org/about/\n",
    "- https://www.learnpython.org/\n",
    "- https://www.w3schools.com/python/\n",
    "- https://en.wikipedia.org/wiki/Python_syntax_and_semantics"
   ]
  },
  {
   "cell_type": "markdown",
   "id": "republican-police",
   "metadata": {},
   "source": [
    "# What is Python?"
   ]
  },
  {
   "cell_type": "markdown",
   "id": "amber-dispute",
   "metadata": {},
   "source": [
    "Python is one of the worlds fastest growing and most popular programming languages! In the past ten years, Python has become the most popular programming language for data science applications. Python is also the second most popular programming language on Github, just behind JavaScript.\n",
    "\n",
    "<img src=\"Images/github_language_trends_2023.webp\" />\n",
    "\n",
    "Resource: https://octoverse.github.com/\n",
    "\n",
    "Python is used by software engineers, mathematicians, scientists, analysts and many other professionals for a variety of different tasks, such as:\n",
    "* data analysis and visualization,\n",
    "* artificial intelligence and machine learning,\n",
    "* desktop/mobile/web applications as well as\n",
    "* automation and testing.\n",
    "\n",
    "All in all, Python is a multi purpose language, which can be used for frontend and backend development of desktop, mobile and web based applications.\n",
    "\n",
    "**But why is Python so popular?**\n",
    "\n",
    "Although many of the above mentioned tasks can also be solved using other programming languages, Python offers many unique advantages. <br>\n",
    "Python allows the user:\n",
    "* to solve complex problems in **less time** with **fewer lines of code** $\\to$ improved productivity in comparison to Java, C# or C++\n",
    "* to understand and solve errors easier by **debugging** code line by line $\\to$ Python is a interpreted language\n",
    "* to work on the problem rather than on memory management $\\to$ Python is a **high-level** language with a memory management system\n",
    "* to build and run Python applications on all platforms $\\to$ Windows, Mac and Linux (**cross-platform**)\n",
    "\n",
    "Python also has a huge community (e.g. GitHub, Stackoverflow and StackExchange) and a large ecosystem consisting of packages, frameworks and tools (appr. 200,000 libraries!). In a nutshell, Python is a multi-purpose language with a simple, clean, and beginner-friendly syntax, which improves productivity and works on all platforms without any code adjustments.\n",
    "\n",
    "The disadvantages of Python are:\n",
    "* a **slow execution speed** in comparison to low-level langagues like C/C++\n",
    "* **less memory efficiency** $\\to$ Python needs a large amount of memory\n",
    "\n",
    "Both disadvantages can be a problem when you are developing applications with real-time requirement on a platform with limited resources, for example mobile applications for cell phones. In this case you would rather choose C++ for fast execution speed and high memory efficiency. But in most of the other cases, like data science, data analysis, data visualization, desktop applications, web applications, task automation etc., Python solely has advantages. In our case of data science and machine learning Python is the state of the art programming language!\n",
    "\n",
    "You can read more about Python at: https://www.python.org/about"
   ]
  },
  {
   "cell_type": "markdown",
   "id": "beneficial-employee",
   "metadata": {},
   "source": [
    "# Why are we using Python?"
   ]
  },
  {
   "cell_type": "markdown",
   "id": "closing-deadline",
   "metadata": {},
   "source": [
    "As mentioned above, Python has several important advantages. First of all, Python is the most popular programming language for data science applications. This is particularly due to the Scikit-Learn, TensorFlow, Keras, Pandas and Matplotlib libraries. You will learn some of them during the Tool Chain Tutorials. Furthermore, Python is a very easy to learn and user-friendly programming language. As a result, course participants can take part in the practical lessons without having previous programming experience and debug their program easier. Last of all, Python has a huge communicty! If you need any help with an error or got stuck with some kind of task just search the internet for answers!\n",
    "\n",
    "You can use following platforms in order to find answers to your questions:\n",
    "* https://stackoverflow.com/\n",
    "* https://stackexchange.com/\n",
    "* https://github.community/\n",
    "\n"
   ]
  },
  {
   "cell_type": "markdown",
   "id": "comfortable-microwave",
   "metadata": {},
   "source": [
    "# Python Basics"
   ]
  },
  {
   "cell_type": "markdown",
   "id": "several-strain",
   "metadata": {},
   "source": [
    "---\n",
    "## 1. Basic Syntax\n",
    "---\n",
    "\n",
    "Python is designed to be a highly readable language. The syntax emphazises code readability and accessability with the use of indentation and with other extras like no semicolon requirement. The aim of Python is to be **simple and consistent**. It is easy to write and understand Python code, as we will see in the next few sections."
   ]
  },
  {
   "cell_type": "markdown",
   "id": "transparent-holocaust",
   "metadata": {},
   "source": [
    "### 1.1. Variables\n",
    "\n",
    "Variables are containers for storing data values. Python has no command for declaring a variable. A variable is created the moment you first assign a value to it. For example:"
   ]
  },
  {
   "cell_type": "code",
   "execution_count": 63,
   "id": "frozen-sauce",
   "metadata": {
    "scrolled": true,
    "ExecuteTime": {
     "end_time": "2024-03-28T15:58:07.432312Z",
     "start_time": "2024-03-28T15:58:07.429111Z"
    }
   },
   "outputs": [
    {
     "name": "stdout",
     "output_type": "stream",
     "text": [
      "5\n",
      "10\n"
     ]
    }
   ],
   "source": [
    "x = 5\n",
    "y = 10\n",
    "\n",
    "print(x)\n",
    "print(y)"
   ]
  },
  {
   "cell_type": "markdown",
   "id": "partial-license",
   "metadata": {},
   "source": [
    "\n",
    "*Additional information:* <br>\n",
    "The `print()` function is used to print a specified message to the screen, or the standard output device. In our case the Jupyter Notebook provides a console output window after every code cell. So when the IPython kernel interprets the `print(x)` function call on line 4 and the `print(y)` function call on line 5, the print function prints the message (in this case the value of the variables x and y) on the console output.\n"
   ]
  },
  {
   "cell_type": "markdown",
   "id": "complete-battery",
   "metadata": {},
   "source": [
    "Variables names are case-sensitive. In the example below `A` will not overwrite `a`."
   ]
  },
  {
   "cell_type": "code",
   "execution_count": 64,
   "id": "known-century",
   "metadata": {
    "ExecuteTime": {
     "end_time": "2024-03-28T15:58:08.214859Z",
     "start_time": "2024-03-28T15:58:08.211229Z"
    }
   },
   "outputs": [
    {
     "name": "stdout",
     "output_type": "stream",
     "text": [
      "4\n",
      "Sally\n"
     ]
    }
   ],
   "source": [
    "a = 4\n",
    "A = \"Sally\"\n",
    "\n",
    "print(a)\n",
    "print(A)"
   ]
  },
  {
   "cell_type": "markdown",
   "id": "needed-grass",
   "metadata": {},
   "source": [
    "Another example for case-sensitivity of variables names:"
   ]
  },
  {
   "cell_type": "code",
   "execution_count": 65,
   "id": "divided-cloud",
   "metadata": {
    "ExecuteTime": {
     "end_time": "2024-03-28T15:58:08.261008Z",
     "start_time": "2024-03-28T15:58:08.253453Z"
    }
   },
   "outputs": [
    {
     "name": "stdout",
     "output_type": "stream",
     "text": [
      "3.1415\n",
      "False\n"
     ]
    }
   ],
   "source": [
    "NotSameVariable = 3.1415\n",
    "notsamevariable = False\n",
    "\n",
    "print(NotSameVariable)\n",
    "print(notsamevariable)"
   ]
  },
  {
   "cell_type": "markdown",
   "id": "recognized-equation",
   "metadata": {},
   "source": [
    "Variables do not need to be declared with any particular data type, and can even change their data type after they have been set (initialized). We will cover datatypes later in detail. For now, just focus on the basic concept of Python variables. \n",
    "\n",
    "An example for the change of the data type is shown below:"
   ]
  },
  {
   "cell_type": "code",
   "execution_count": 66,
   "id": "needed-trouble",
   "metadata": {
    "ExecuteTime": {
     "end_time": "2024-03-28T15:58:08.354123Z",
     "start_time": "2024-03-28T15:58:08.350762Z"
    }
   },
   "outputs": [
    {
     "name": "stdout",
     "output_type": "stream",
     "text": [
      "Sally\n"
     ]
    }
   ],
   "source": [
    "x = 4  \n",
    "x = \"Sally\"\n",
    "print(x)"
   ]
  },
  {
   "cell_type": "markdown",
   "id": "comparative-blogger",
   "metadata": {},
   "source": [
    "The data type of `x` is first set automatically as an integer through the initialization of the variable with the value `4`. Later, the data type changes to string when we overwrite the value of x with `\"Sally\"`. \n",
    "\n",
    "*Additional information:* <br>\n",
    "The `type()` function returns the class type of the argument (object) passed as input parameter."
   ]
  },
  {
   "cell_type": "code",
   "execution_count": 67,
   "id": "aging-ceramic",
   "metadata": {
    "ExecuteTime": {
     "end_time": "2024-03-28T15:58:08.430470Z",
     "start_time": "2024-03-28T15:58:08.427306Z"
    }
   },
   "outputs": [
    {
     "name": "stdout",
     "output_type": "stream",
     "text": [
      "<class 'int'>\n",
      "<class 'str'>\n"
     ]
    }
   ],
   "source": [
    "x = 4\n",
    "print(type(x))\n",
    "\n",
    "x = \"Sally\"\n",
    "print(type(x))"
   ]
  },
  {
   "cell_type": "markdown",
   "id": "rocky-coast",
   "metadata": {},
   "source": [
    "### 1.2. Keywords\n",
    "\n",
    "Python has in total 35 keywords, which are reserved for the interpreter and cannot be used as identifiers. Those are:\n",
    "\n",
    "<table style=\"width:80%\">\n",
    "<tr>\n",
    "<td style=\"text-align: center; vertical-align: middle;\">and</td>\n",
    "<td style=\"text-align: center; vertical-align: middle;\">as</td>\n",
    "<td style=\"text-align: center; vertical-align: middle;\">assert</td>\n",
    "<td style=\"text-align: center; vertical-align: middle;\">async</td>\n",
    "<td style=\"text-align: center; vertical-align: middle;\">await</td>\n",
    "<td style=\"text-align: center; vertical-align: middle;\">break</td>\n",
    "<td style=\"text-align: center; vertical-align: middle;\">class</td>\n",
    "</tr>\n",
    "    \n",
    "<tr>\n",
    "<td style=\"text-align: center; vertical-align: middle;\">continue</td>\n",
    "<td style=\"text-align: center; vertical-align: middle;\">def</td>\n",
    "<td style=\"text-align: center; vertical-align: middle;\">del</td>\n",
    "<td style=\"text-align: center; vertical-align: middle;\">elif</td>\n",
    "<td style=\"text-align: center; vertical-align: middle;\">else</td>\n",
    "<td style=\"text-align: center; vertical-align: middle;\">except</td>\n",
    "<td style=\"text-align: center; vertical-align: middle;\">False</td>\n",
    "</tr>\n",
    "    \n",
    "<tr>\n",
    "<td style=\"text-align: center; vertical-align: middle;\">finally</td>\n",
    "<td style=\"text-align: center; vertical-align: middle;\">for</td>\n",
    "<td style=\"text-align: center; vertical-align: middle;\">from</td>\n",
    "<td style=\"text-align: center; vertical-align: middle;\">global</td>\n",
    "<td style=\"text-align: center; vertical-align: middle;\">if</td>\n",
    "<td style=\"text-align: center; vertical-align: middle;\">import</td>\n",
    "<td style=\"text-align: center; vertical-align: middle;\">in</td>\n",
    "</tr>\n",
    "    \n",
    "<tr>\n",
    "<td style=\"text-align: center; vertical-align: middle;\">is</td>\n",
    "<td style=\"text-align: center; vertical-align: middle;\">lambda</td>\n",
    "<td style=\"text-align: center; vertical-align: middle;\">None</td>\n",
    "<td style=\"text-align: center; vertical-align: middle;\">nonlocal</td>\n",
    "<td style=\"text-align: center; vertical-align: middle;\">not</td>\n",
    "<td style=\"text-align: center; vertical-align: middle;\">or</td>\n",
    "<td style=\"text-align: center; vertical-align: middle;\">pass</td>\n",
    "</tr>\n",
    "    \n",
    "<tr>\n",
    "<td style=\"text-align: center; vertical-align: middle;\">raise</td>\n",
    "<td style=\"text-align: center; vertical-align: middle;\">return</td>\n",
    "<td style=\"text-align: center; vertical-align: middle;\">True</td>\n",
    "<td style=\"text-align: center; vertical-align: middle;\">try</td>\n",
    "<td style=\"text-align: center; vertical-align: middle;\">while</td>\n",
    "<td style=\"text-align: center; vertical-align: middle;\">with</td>\n",
    "<td style=\"text-align: center; vertical-align: middle;\">yield</td>\n",
    "</tr>\n",
    "</table>\n",
    "\n",
    "We will apply most of them in the following sections."
   ]
  },
  {
   "cell_type": "markdown",
   "id": "inclusive-reset",
   "metadata": {},
   "source": [
    "### 1.3. Indendation\n",
    "\n",
    "The term indentation refers to the spaces at the beginning of a code line. Where in other programming languages the indentation in code is for readability only, the indendation in Python is very important for the interpreter! Incorrect indentation can cause errors.\n",
    "\n",
    "*It is recommended to use the Tab key for indentation.*"
   ]
  },
  {
   "cell_type": "markdown",
   "id": "expired-mother",
   "metadata": {},
   "source": [
    "#### Example for indentation:\n",
    "\n",
    "The following code is interpreted correctly:"
   ]
  },
  {
   "cell_type": "code",
   "execution_count": 68,
   "id": "fixed-convention",
   "metadata": {
    "ExecuteTime": {
     "end_time": "2024-03-28T15:58:08.518873Z",
     "start_time": "2024-03-28T15:58:08.515552Z"
    }
   },
   "outputs": [
    {
     "name": "stdout",
     "output_type": "stream",
     "text": [
      "True\n"
     ]
    }
   ],
   "source": [
    "if True:\n",
    "    print(\"True\")\n",
    "else:\n",
    "    print(\"False\")"
   ]
  },
  {
   "cell_type": "markdown",
   "id": "packed-neighborhood",
   "metadata": {},
   "source": [
    "The following code cannot be interpreted due to the lack of indentation: "
   ]
  },
  {
   "cell_type": "code",
   "execution_count": 69,
   "id": "musical-gather",
   "metadata": {
    "ExecuteTime": {
     "end_time": "2024-03-28T15:58:08.577480Z",
     "start_time": "2024-03-28T15:58:08.573194Z"
    }
   },
   "outputs": [
    {
     "ename": "IndentationError",
     "evalue": "expected an indented block after 'if' statement on line 1 (3044367893.py, line 2)",
     "output_type": "error",
     "traceback": [
      "\u001B[1;36m  Cell \u001B[1;32mIn[69], line 2\u001B[1;36m\u001B[0m\n\u001B[1;33m    print(\"True\")\u001B[0m\n\u001B[1;37m    ^\u001B[0m\n\u001B[1;31mIndentationError\u001B[0m\u001B[1;31m:\u001B[0m expected an indented block after 'if' statement on line 1\n"
     ]
    }
   ],
   "source": [
    "if True:\n",
    "print(\"True\")\n",
    "else:\n",
    "print(\"False\")"
   ]
  },
  {
   "cell_type": "markdown",
   "id": "silver-portland",
   "metadata": {},
   "source": [
    "### 1.4. Multi-Line Statements\n",
    "\n",
    "Statements in Python typically end with a new line. Python does, however, allow the use of the line continuation character `\\` to denote that the line should continue. Its only purpose is to provide code readability in cases with very long arguments.\n",
    "\n",
    "For example:"
   ]
  },
  {
   "cell_type": "code",
   "execution_count": 70,
   "id": "light-salad",
   "metadata": {
    "ExecuteTime": {
     "end_time": "2024-03-28T15:58:08.682859Z",
     "start_time": "2024-03-28T15:58:08.679680Z"
    }
   },
   "outputs": [
    {
     "name": "stdout",
     "output_type": "stream",
     "text": [
      "Lorem ipsum dolor sit amet, consetetur sadipscing elitr, sed diam nonumy eirmod tempor invidunt ut labore et dolore magna aliquyamerat, sed diam voluptua. At vero eos et accusam et justo duo dolores et ea rebum.\n",
      "\n",
      "Lorem ipsum dolor sit amet, consetetur sadipscing elitr, sed diam nonumy eirmod tempor invidunt ut labore et dolore magna aliquyam erat, sed diam voluptua. At vero eos et accusam et justo duo dolores et ea rebum.\n"
     ]
    }
   ],
   "source": [
    "ipsum1 = \"Lorem ipsum dolor sit amet, consetetur sadipscing elitr, sed diam\" + \\\n",
    "         \" nonumy eirmod tempor invidunt ut labore et dolore magna aliquyam\" + \\\n",
    "         \"erat, sed diam voluptua. At vero eos et accusam et justo duo dolores et ea rebum.\"\n",
    "\n",
    "ipsum2 = \"Lorem ipsum dolor sit amet, consetetur sadipscing elitr, sed diam nonumy eirmod tempor invidunt ut labore et dolore magna aliquyam erat, sed diam voluptua. At vero eos et accusam et justo duo dolores et ea rebum.\"\n",
    "\n",
    "print(ipsum1)\n",
    "print()\n",
    "print(ipsum2)"
   ]
  },
  {
   "cell_type": "markdown",
   "id": "better-capacity",
   "metadata": {},
   "source": [
    "Statements contained within the [], {}, or () brackets do not need to use the line continuation character. For example"
   ]
  },
  {
   "cell_type": "code",
   "execution_count": 71,
   "id": "complex-providence",
   "metadata": {
    "ExecuteTime": {
     "end_time": "2024-03-28T15:58:08.727482Z",
     "start_time": "2024-03-28T15:58:08.714418Z"
    }
   },
   "outputs": [
    {
     "name": "stdout",
     "output_type": "stream",
     "text": [
      "['Monday', 'Tuesday', 'Wednesday', 'Thursday', 'Friday']\n",
      "\n",
      "['Monday', 'Tuesday', 'Wednesday', 'Thursday', 'Friday']\n"
     ]
    }
   ],
   "source": [
    "days1 = ['Monday', \n",
    "         'Tuesday', 'Wednesday',\n",
    "         'Thursday', \n",
    "         'Friday']\n",
    "\n",
    "days2 = ['Monday', 'Tuesday', 'Wednesday', 'Thursday', 'Friday']\n",
    "\n",
    "print(days1)\n",
    "print()\n",
    "print(days2)\n",
    "\n"
   ]
  },
  {
   "cell_type": "markdown",
   "id": "animated-adrian",
   "metadata": {},
   "source": [
    "### 1.5. Comments in Python\n",
    "\n",
    "A hash sign (`#`) that is not inside a string literal begins a single line comment. All characters after the `#` and up to the end of the physical line are part of the comment and the Python interpreter ignores them.\n",
    "\n",
    "Triple-quoted strings (`\"\"\"`) are also ignored by the Python interpreter and can be used for multiline comments."
   ]
  },
  {
   "cell_type": "code",
   "execution_count": 72,
   "id": "conceptual-ultimate",
   "metadata": {
    "ExecuteTime": {
     "end_time": "2024-03-28T15:58:09.616420Z",
     "start_time": "2024-03-28T15:58:09.612913Z"
    }
   },
   "outputs": [],
   "source": [
    "# first single line comment\n",
    "a = 3\n",
    "\n",
    "# second single line comment\n",
    "b = 5\n",
    "\n",
    "\"\"\"\n",
    "    This \n",
    "    is \n",
    "    a \n",
    "    multiline\n",
    "    comment.\n",
    "\"\"\"\n",
    "c = 8"
   ]
  },
  {
   "cell_type": "markdown",
   "id": "suitable-circuit",
   "metadata": {},
   "source": [
    "It is very important to make use of comments! Try to comment and document your projects in a target-oriented manner."
   ]
  },
  {
   "cell_type": "markdown",
   "id": "circular-collins",
   "metadata": {},
   "source": [
    "---\n",
    "## 2. Datatypes\n",
    "---\n",
    "Data type is an important concept of programming. Variables can store data of different types, for example numbers or characters. And different data types can do different operations. We can calculate with numbers and we can concaternate characters to words and sentences.\n",
    "\n",
    "Python has the following built-in data types by default:\n",
    "\n",
    "- Text Type: &emsp;&emsp;&emsp;&ensp;`str`\n",
    "\n",
    "- Numeric Types: &emsp;`int`, `float`, `complex`\n",
    "\n",
    "- Sequence Types : `list`, `tuple`, `range`\n",
    "\n",
    "- Mapping Type: &emsp;&nbsp; `dict`\n",
    "\n",
    "- Set Types: &emsp;&emsp;&emsp;&nbsp;`set`, `frozenset`\n",
    "\n",
    "- Boolean Type: &emsp;&nbsp;&nbsp;`bool`\n",
    "\n",
    "- Binary Types: &emsp;&ensp;&nbsp;`bytes`, `bytearray`, `memoryview`\n",
    "\n",
    "During the practical lectures, we will mainly work with the following data types:\n",
    "<table>\n",
    "<thead>\n",
    "  <tr>\n",
    "    <th style=\"text-align: left; vertical-align: middle; width:10%;\">data type</th>\n",
    "    <th style=\"text-align: left; vertical-align: middle; width:30%;\">description</th>\n",
    "    <th style=\"text-align: left; vertical-align: middle; width:30%;\">example</th>\n",
    "  </tr>\n",
    "</thead>\n",
    "<tbody>\n",
    "  <tr>\n",
    "    <td style=\"text-align: left; vertical-align: middle; width:10%;\">str</td>\n",
    "    <td style=\"text-align: left; vertical-align: middle; width:30%;\">string, used for textual data</td>\n",
    "    <td style=\"text-align: left; vertical-align: middle; width:30%;\">'hello'</td>\n",
    "  </tr>\n",
    "  <tr>\n",
    "    <td style=\"text-align: left; vertical-align: middle; width:10%;\">int</td>\n",
    "    <td style=\"text-align: left; vertical-align: middle; width:30%;\">integer, whole numbers</td>\n",
    "    <td style=\"text-align: left; vertical-align: middle; width:30%;\">3</td>\n",
    "  </tr>\n",
    "  <tr>\n",
    "    <td style=\"text-align: left; vertical-align: middle; width:10%;\">float</td>\n",
    "    <td style=\"text-align: left; vertical-align: middle; width:30%;\">decimal, floating point numbers</td>\n",
    "    <td style=\"text-align: left; vertical-align: middle; width:30%;\">3.1415</td>\n",
    "  </tr>\n",
    "  <tr>\n",
    "    <td style=\"text-align: left; vertical-align: middle; width:10%;\">bool</td>\n",
    "    <td style=\"text-align: left; vertical-align: middle; width:30%;\">boolean, True or False</td>\n",
    "    <td style=\"text-align: left; vertical-align: middle; width:30%;\">True</td>\n",
    "  </tr>\n",
    "  <tr>\n",
    "    <td style=\"text-align: left; vertical-align: middle; width:10%;\">list</td>\n",
    "    <td style=\"text-align: left; vertical-align: middle; width:30%;\">data structure (details follow later)</td>\n",
    "    <td style=\"text-align: left; vertical-align: middle; width:30%;\">[1, 2.123, 'hello']</td>\n",
    "  </tr>\n",
    "  <tr>\n",
    "    <td style=\"text-align: left; vertical-align: middle; width:10%;\">dict</td>\n",
    "    <td style=\"text-align: left; vertical-align: middle; width:30%;\">dictionary, data structure (details follow later)</td>\n",
    "    <td style=\"text-align: left; vertical-align: middle; width:30%;\">{\"name\" : \"Max\", \"age\" : 24}</td>\n",
    "  </tr>\n",
    "</tbody>\n",
    "</table>"
   ]
  },
  {
   "cell_type": "markdown",
   "id": "minimal-hampshire",
   "metadata": {},
   "source": [
    "### 2.1. Getting the Data Type\n",
    "You can get the data type of any object by using the `type()` function. For Example:"
   ]
  },
  {
   "cell_type": "code",
   "execution_count": 73,
   "id": "spatial-ordinary",
   "metadata": {
    "ExecuteTime": {
     "end_time": "2024-03-28T15:58:09.658928Z",
     "start_time": "2024-03-28T15:58:09.639246Z"
    }
   },
   "outputs": [
    {
     "name": "stdout",
     "output_type": "stream",
     "text": [
      "<class 'int'>\n",
      "<class 'str'>\n",
      "<class 'bool'>\n"
     ]
    }
   ],
   "source": [
    "x = 5\n",
    "y = 'Test'\n",
    "z = False\n",
    "\n",
    "print(type(x))\n",
    "print(type(y))\n",
    "print(type(z))"
   ]
  },
  {
   "cell_type": "markdown",
   "id": "ruled-belief",
   "metadata": {},
   "source": [
    "Another example for getting data types. (No worries, we will speak about the `if` statement later in detail.)"
   ]
  },
  {
   "cell_type": "code",
   "execution_count": 74,
   "id": "occupied-scoop",
   "metadata": {
    "ExecuteTime": {
     "end_time": "2024-03-28T15:58:09.736186Z",
     "start_time": "2024-03-28T15:58:09.733188Z"
    }
   },
   "outputs": [
    {
     "name": "stdout",
     "output_type": "stream",
     "text": [
      "x is an integer\n",
      "y is a string\n",
      "z is an boolean\n"
     ]
    }
   ],
   "source": [
    "x = 5\n",
    "y = 'Test'\n",
    "z = False\n",
    "\n",
    "if type(x) == int:\n",
    "    print('x is an integer')\n",
    "    \n",
    "if type(y) == str:\n",
    "    print('y is a string')\n",
    "    \n",
    "if type(z) == bool:\n",
    "    print('z is an boolean')"
   ]
  },
  {
   "cell_type": "markdown",
   "id": "heard-stamp",
   "metadata": {},
   "source": [
    "### 2.2. Setting the Data Type\n",
    "In Python, the data type is set automatically by the interpreter when you assign a value to a variable, as already mentioned above. In this case the type conversion is called **implicit** because it is done automatically by the interpreter without the programmers intervention.\n",
    "\n",
    "Here are some more examples:"
   ]
  },
  {
   "cell_type": "code",
   "execution_count": 75,
   "id": "induced-action",
   "metadata": {
    "ExecuteTime": {
     "end_time": "2024-03-28T15:58:09.775273Z",
     "start_time": "2024-03-28T15:58:09.771872Z"
    }
   },
   "outputs": [],
   "source": [
    "a = \"Hello World\"                    # data type: str\n",
    "b = 20                               # data type: int\n",
    "c = 20.5                             # data type: float\n",
    "d = True                             # data type: bool\n",
    "e = [\"apple\", \"banana\", \"cherry\"]    # data type: list\n",
    "f = range(6)                         # data type: range\n",
    "g = {\"name\" : \"John\", \"age\" : 36}    # data type: dict"
   ]
  },
  {
   "cell_type": "markdown",
   "id": "specific-booth",
   "metadata": {},
   "source": [
    "However, if you want to specify the data type of a variable, you can use casting methods. Casting methods are functions which allow to convert (cast) the data type of a variable into another compatible data type. In this case the conversion is called **explicit** because the programmer defines the data type of the variable.\n",
    "\n",
    "For example:"
   ]
  },
  {
   "cell_type": "code",
   "execution_count": 76,
   "id": "filled-union",
   "metadata": {
    "ExecuteTime": {
     "end_time": "2024-03-28T15:58:09.861821Z",
     "start_time": "2024-03-28T15:58:09.858499Z"
    }
   },
   "outputs": [
    {
     "name": "stdout",
     "output_type": "stream",
     "text": [
      "Variable a has the following value      : 20.5\n",
      "Variable a has the following data type  : <class 'float'>\n",
      "\n",
      "Variable b has the following value      : 20\n",
      "Variable b has the following data type  : <class 'int'>\n"
     ]
    }
   ],
   "source": [
    "a = 20.5                             # data type: float\n",
    "b = int(a)                           # data type: int\n",
    "\n",
    "# multiple input arguments can be seperated with a comma for the print() function!\n",
    "print('Variable a has the following value      :', a)\n",
    "print('Variable a has the following data type  :', type(a))\n",
    "print()\n",
    "print('Variable b has the following value      :', b)\n",
    "print('Variable b has the following data type  :', type(b))"
   ]
  },
  {
   "cell_type": "markdown",
   "id": "velvet-guyana",
   "metadata": {},
   "source": [
    "#### further information for data types\n",
    "You can read further information about data types on:\n",
    "* https://www.w3schools.com/python/python_datatypes.asp\n",
    "* https://www.w3schools.com/python/python_numbers.asp\n",
    "* https://www.w3schools.com/python/python_strings.asp\n",
    "* https://www.w3schools.com/python/python_booleans.asp"
   ]
  },
  {
   "cell_type": "markdown",
   "id": "general-coordinate",
   "metadata": {},
   "source": [
    "---\n",
    "## 3. Operators\n",
    "---\n",
    "Operators are used to perform operations on variables and values. In general, operators can be divided into the following categories:\n",
    "* arithmetic operators,\n",
    "* assignment operators,\n",
    "* comparison operators,\n",
    "* logical opeators,\n",
    "* identity operators,\n",
    "* membership operators and\n",
    "* bitwise operators.\n",
    "\n",
    "In the following sections, we will talk about the first four operator types. If you wish to learn more about the other ones, you can visit https://www.w3schools.com/python/python_operators.asp\n",
    "\n",
    "\n",
    "### 3.1. Arithmetic Operators\n",
    "As the name implifies, arithmetic operators are used with numeric values to perform common mathematical operations. Such as addition, subtraction, multiplication, division etc. \n",
    "\n",
    "For example:"
   ]
  },
  {
   "cell_type": "code",
   "execution_count": 77,
   "id": "mechanical-wrestling",
   "metadata": {
    "ExecuteTime": {
     "end_time": "2024-03-28T15:58:09.903998Z",
     "start_time": "2024-03-28T15:58:09.886369Z"
    }
   },
   "outputs": [
    {
     "data": {
      "text/plain": "5"
     },
     "execution_count": 77,
     "metadata": {},
     "output_type": "execute_result"
    }
   ],
   "source": [
    "a = 10\n",
    "b = 2\n",
    "\n",
    "a + b      # addition\n",
    "a - b      # subtraction\n",
    "a * b      # multiplication\n",
    "a / b      # division\n",
    "a % b      # modulus\n",
    "a ** b     # exponentiantion ( y = a^(b) )\n",
    "a // b     # floor division"
   ]
  },
  {
   "cell_type": "markdown",
   "id": "comfortable-ordering",
   "metadata": {},
   "source": [
    "### 3.2. Assignment Operators\n",
    "Assignment operators are used to assign values to variables. All assignment operators contain the equal to sign `=`. \n",
    "\n",
    "Examples for variable assignments are:"
   ]
  },
  {
   "cell_type": "code",
   "execution_count": 78,
   "id": "retired-produce",
   "metadata": {
    "ExecuteTime": {
     "end_time": "2024-03-28T15:58:09.941587Z",
     "start_time": "2024-03-28T15:58:09.938448Z"
    }
   },
   "outputs": [],
   "source": [
    "a = 10             # most basic assignment\n",
    "a += 3             # same as \" a = a + 3 \"   (addition)\n",
    "a -= 3             # same as \" a = a - 3 \"   (substraction)\n",
    "a *= 3             # same as \" a = a * 3 \"   (multiplication)\n",
    "a /= 3             # same as \" a = a / 3 \"   (division)\n",
    "a %= 3             # same as \" a = a % 3 \"   (modulus)\n",
    "a **= 3            # same as \" a = a ** 3 \"  (exponentiantion)\n",
    "a //= 3            # same as \" a = a // 3 \"  (floor division)"
   ]
  },
  {
   "cell_type": "markdown",
   "id": "sized-revolution",
   "metadata": {},
   "source": [
    "### 3.3. Comparison Operators\n",
    "Comparison operators are used to compare two values (for example in if statements). \n",
    "\n",
    "Examples for comparision operators are:"
   ]
  },
  {
   "cell_type": "code",
   "execution_count": 79,
   "id": "frequent-accident",
   "metadata": {
    "ExecuteTime": {
     "end_time": "2024-03-28T15:58:09.980665Z",
     "start_time": "2024-03-28T15:58:09.976133Z"
    }
   },
   "outputs": [
    {
     "data": {
      "text/plain": "True"
     },
     "execution_count": 79,
     "metadata": {},
     "output_type": "execute_result"
    }
   ],
   "source": [
    "a == b      # equal\n",
    "a != b      # not equal\n",
    "a > b       # greater than\n",
    "a < b       # less than\n",
    "a >= b      # greater than or equal to\n",
    "a <= b      # less than or equal to"
   ]
  },
  {
   "cell_type": "markdown",
   "id": "tired-smith",
   "metadata": {},
   "source": [
    "Example for the use of comparision operators in the condition of an if-statement:"
   ]
  },
  {
   "cell_type": "code",
   "execution_count": 80,
   "id": "earned-camel",
   "metadata": {
    "ExecuteTime": {
     "end_time": "2024-03-28T15:58:10.061098Z",
     "start_time": "2024-03-28T15:58:10.058112Z"
    }
   },
   "outputs": [],
   "source": [
    "a = 10\n",
    "b = 20\n",
    "\n",
    "if a >= b:\n",
    "    print('a is greater than or equal to b')"
   ]
  },
  {
   "cell_type": "markdown",
   "id": "catholic-ranch",
   "metadata": {},
   "source": [
    "### 3.4. Logical Operators\n",
    "Logical operators are used to combine conditional statements. Following logical operators can be used:\n",
    "* and\n",
    "* or\n",
    "* not\n",
    "\n",
    "Last example of the if-statement can also be rewritten by using the `or` keyword as following:"
   ]
  },
  {
   "cell_type": "code",
   "execution_count": 81,
   "id": "round-committee",
   "metadata": {
    "ExecuteTime": {
     "end_time": "2024-03-28T15:58:10.086699Z",
     "start_time": "2024-03-28T15:58:10.080675Z"
    }
   },
   "outputs": [
    {
     "name": "stdout",
     "output_type": "stream",
     "text": [
      "a is less than b\n"
     ]
    }
   ],
   "source": [
    "a = 10\n",
    "b = 20\n",
    "\n",
    "if a > b or a == b:\n",
    "    print('a is greater than or equal to b')\n",
    "else:\n",
    "    print('a is less than b')"
   ]
  },
  {
   "cell_type": "markdown",
   "id": "exposed-credit",
   "metadata": {},
   "source": [
    "Another example for the use of the `and` keyword can be:"
   ]
  },
  {
   "cell_type": "code",
   "execution_count": 82,
   "id": "behavioral-front",
   "metadata": {
    "ExecuteTime": {
     "end_time": "2024-03-28T15:58:10.182149Z",
     "start_time": "2024-03-28T15:58:10.178577Z"
    }
   },
   "outputs": [
    {
     "name": "stdout",
     "output_type": "stream",
     "text": [
      "a is greater than b and less than c\n"
     ]
    }
   ],
   "source": [
    "a = 10\n",
    "b = 5\n",
    "c = 20\n",
    "\n",
    "if a > b and a < c:\n",
    "    print('a is greater than b and less than c')"
   ]
  },
  {
   "cell_type": "markdown",
   "id": "plain-anthony",
   "metadata": {},
   "source": [
    "The `not` keyword is a negation. Therefore, the following condition will always be true:"
   ]
  },
  {
   "cell_type": "code",
   "execution_count": 83,
   "id": "enabling-original",
   "metadata": {
    "ExecuteTime": {
     "end_time": "2024-03-28T15:58:10.216919Z",
     "start_time": "2024-03-28T15:58:10.213326Z"
    }
   },
   "outputs": [
    {
     "name": "stdout",
     "output_type": "stream",
     "text": [
      "The condition \"not False\" will always be true because the negation of \"False\" is \"True\". \n",
      "Therefore this if-statement is the same as \"if True:\" !\n"
     ]
    }
   ],
   "source": [
    "if not False:\n",
    "    print('The condition \"not False\" will always be true',\n",
    "          'because the negation of \"False\" is \"True\".',                \n",
    "          '\\nTherefore this if-statement is the same as \"if True:\" !') # '\\n' is a linebreak in the print() function"
   ]
  },
  {
   "cell_type": "markdown",
   "id": "unlikely-monitoring",
   "metadata": {},
   "source": [
    "---\n",
    "## 4. Data Structures\n",
    "---\n",
    "Python consists of five built-in data structures. These are:\n",
    "* strings,\n",
    "* lists,\n",
    "* tuples,\n",
    "* dictionaries and\n",
    "* sets.\n",
    "\n",
    "While strings can contain only characters, the four other data structures (lists, tuples, dictionaries and sets) can contain **any type** of objects. Strings, lists and tuples are **ordered** sequence of objects. They have a index variable for accessing the elements. Especially lists and tuples are like arrays from other programming languages. While list elements can be changed even after initialization, the elements of tuples are **immutable** and cannot be changed after definition. Dictionaries are a map of key:value pairs and very usefull for several purposes. Sets are mutable unordered sequence of **unique elements**. We will speak about the details in the next few sections."
   ]
  },
  {
   "cell_type": "markdown",
   "id": "transsexual-sailing",
   "metadata": {},
   "source": [
    "### 4.1. Lists\n",
    "Lists are used to store multiple items in a single variable and are created using square brackets. For example:"
   ]
  },
  {
   "cell_type": "code",
   "execution_count": 84,
   "id": "further-geography",
   "metadata": {
    "ExecuteTime": {
     "end_time": "2024-03-28T15:58:10.302360Z",
     "start_time": "2024-03-28T15:58:10.299198Z"
    }
   },
   "outputs": [
    {
     "name": "stdout",
     "output_type": "stream",
     "text": [
      "['one', 'two', 'three']\n"
     ]
    }
   ],
   "source": [
    "aList = ['one', 'two', 'three']\n",
    "print(aList)"
   ]
  },
  {
   "cell_type": "markdown",
   "id": "engaging-adolescent",
   "metadata": {},
   "source": [
    "List items are **ordered**, **changeable**, and **allow duplicate** values. List items are also **indexed**. <br>The first item has always the index `[0]`, the second item has the index `[1]` etc."
   ]
  },
  {
   "cell_type": "code",
   "execution_count": 85,
   "id": "sudden-success",
   "metadata": {
    "ExecuteTime": {
     "end_time": "2024-03-28T15:58:10.338996Z",
     "start_time": "2024-03-28T15:58:10.334969Z"
    }
   },
   "outputs": [
    {
     "name": "stdout",
     "output_type": "stream",
     "text": [
      "one\n",
      "two\n",
      "three\n"
     ]
    }
   ],
   "source": [
    "print(aList[0])\n",
    "print(aList[1])\n",
    "print(aList[2])"
   ]
  },
  {
   "cell_type": "markdown",
   "id": "tight-freedom",
   "metadata": {},
   "source": [
    "The term **ordered** means that the items in the list have a defined order, and that order will not change. For example the element `'one'` in the list `aList` has the index `[0]` and the element `'two'` has the index `[1]`. The order of the items will not change as long as the programmer does not consciously change them by using list methods.\n",
    "\n",
    "The term **changeable** means that we can change, add, and remove items in a list after it has been created.\n",
    "\n",
    "Since lists are indexed, lists can also have items with the same value. Lists **allow duplicates**. For example:"
   ]
  },
  {
   "cell_type": "code",
   "execution_count": 86,
   "id": "final-repeat",
   "metadata": {
    "ExecuteTime": {
     "end_time": "2024-03-28T15:58:10.419171Z",
     "start_time": "2024-03-28T15:58:10.415144Z"
    }
   },
   "outputs": [
    {
     "name": "stdout",
     "output_type": "stream",
     "text": [
      "['apple', 'banana', 'cherry', 'apple', 'cherry']\n"
     ]
    }
   ],
   "source": [
    "anotherList = [\"apple\", \"banana\", \"cherry\", \"apple\", \"cherry\"]\n",
    "print(anotherList)"
   ]
  },
  {
   "cell_type": "markdown",
   "id": "combined-geography",
   "metadata": {},
   "source": [
    "A list can also contain items with different data types. For example:"
   ]
  },
  {
   "cell_type": "code",
   "execution_count": 87,
   "id": "blond-rover",
   "metadata": {
    "ExecuteTime": {
     "end_time": "2024-03-28T15:58:10.446779Z",
     "start_time": "2024-03-28T15:58:10.440724Z"
    }
   },
   "outputs": [
    {
     "name": "stdout",
     "output_type": "stream",
     "text": [
      "<class 'str'>\n",
      "<class 'int'>\n",
      "<class 'float'>\n",
      "<class 'list'>\n",
      "<class 'bool'>\n"
     ]
    }
   ],
   "source": [
    "newList = [\"apple\", 1, 3.1415, [1,2,3], False]\n",
    "print(type(newList[0]))\n",
    "print(type(newList[1]))\n",
    "print(type(newList[2]))\n",
    "print(type(newList[3]))\n",
    "print(type(newList[4]))"
   ]
  },
  {
   "cell_type": "markdown",
   "id": "medical-hearing",
   "metadata": {},
   "source": [
    "To change the value of a specific list item, you can refer to the index number as following:"
   ]
  },
  {
   "cell_type": "code",
   "execution_count": 88,
   "id": "normal-township",
   "metadata": {
    "ExecuteTime": {
     "end_time": "2024-03-28T15:58:10.535197Z",
     "start_time": "2024-03-28T15:58:10.531990Z"
    }
   },
   "outputs": [
    {
     "name": "stdout",
     "output_type": "stream",
     "text": [
      "['apple', 'banana', 'cherry']\n",
      "['apple', 'lemon', 'cherry']\n"
     ]
    }
   ],
   "source": [
    "thislist = [\"apple\", \"banana\", \"cherry\"]\n",
    "print(thislist)\n",
    "\n",
    "thislist[1] = \"lemon\"\n",
    "print(thislist)"
   ]
  },
  {
   "cell_type": "markdown",
   "id": "considered-savannah",
   "metadata": {},
   "source": [
    "There are several functions which can be used on lists. For example:"
   ]
  },
  {
   "cell_type": "code",
   "execution_count": 89,
   "id": "conceptual-michigan",
   "metadata": {
    "ExecuteTime": {
     "end_time": "2024-03-28T15:58:10.586242Z",
     "start_time": "2024-03-28T15:58:10.553190Z"
    }
   },
   "outputs": [
    {
     "name": "stdout",
     "output_type": "stream",
     "text": [
      "['apple', 'banana', 'kiwi', 'cherry', 'ananas']\n"
     ]
    }
   ],
   "source": [
    "thisList = [\"apple\", \"banana\", \"kiwi\", \"cherry\"]\n",
    "\n",
    "# Add an element at the end of the list\n",
    "thisList.append(\"ananas\")\n",
    "print(thisList)"
   ]
  },
  {
   "cell_type": "code",
   "execution_count": 90,
   "id": "superb-explorer",
   "metadata": {
    "ExecuteTime": {
     "end_time": "2024-03-28T15:58:10.630304Z",
     "start_time": "2024-03-28T15:58:10.588253Z"
    }
   },
   "outputs": [
    {
     "name": "stdout",
     "output_type": "stream",
     "text": [
      "['apple', 'banana', 'ananas', 'kiwi', 'cherry']\n"
     ]
    }
   ],
   "source": [
    "thisList = [\"apple\", \"banana\", \"kiwi\", \"cherry\"]\n",
    "\n",
    "# Add an element at the specified position\n",
    "thisList.insert(2, \"ananas\")\n",
    "print(thisList)"
   ]
  },
  {
   "cell_type": "code",
   "execution_count": 91,
   "id": "manual-detroit",
   "metadata": {
    "ExecuteTime": {
     "end_time": "2024-03-28T15:58:10.679033Z",
     "start_time": "2024-03-28T15:58:10.675484Z"
    }
   },
   "outputs": [
    {
     "name": "stdout",
     "output_type": "stream",
     "text": [
      "['apple', 'kiwi', 'cherry']\n"
     ]
    }
   ],
   "source": [
    "thisList = [\"apple\", \"banana\", \"kiwi\", \"cherry\"]\n",
    "\n",
    "# Remove the element at the specified position\n",
    "thisList.pop(1)\n",
    "print(thisList)"
   ]
  },
  {
   "cell_type": "code",
   "execution_count": 92,
   "id": "administrative-screw",
   "metadata": {
    "ExecuteTime": {
     "end_time": "2024-03-28T15:58:10.754274Z",
     "start_time": "2024-03-28T15:58:10.750525Z"
    }
   },
   "outputs": [
    {
     "name": "stdout",
     "output_type": "stream",
     "text": [
      "['apple', 'banana', 'cherry']\n"
     ]
    }
   ],
   "source": [
    "thisList = [\"apple\", \"banana\", \"kiwi\", \"cherry\"]\n",
    "\n",
    "# Removes the item with the specified value\n",
    "thisList.remove(\"kiwi\")\n",
    "print(thisList)"
   ]
  },
  {
   "cell_type": "code",
   "execution_count": 93,
   "id": "diverse-shift",
   "metadata": {
    "ExecuteTime": {
     "end_time": "2024-03-28T15:58:10.806017Z",
     "start_time": "2024-03-28T15:58:10.787452Z"
    }
   },
   "outputs": [
    {
     "name": "stdout",
     "output_type": "stream",
     "text": [
      "2\n"
     ]
    }
   ],
   "source": [
    "thisList = [\"apple\", \"banana\", \"kiwi\", \"cherry\"]\n",
    "\n",
    "# Return the index of the first element with the specified value\n",
    "a = thisList.index(\"kiwi\")\n",
    "print(a)"
   ]
  },
  {
   "cell_type": "markdown",
   "id": "thirty-dance",
   "metadata": {},
   "source": [
    "For further information on lists please visit https://www.w3schools.com/python/python_lists.asp"
   ]
  },
  {
   "cell_type": "markdown",
   "id": "musical-northern",
   "metadata": {},
   "source": [
    "### 4.2. Tuples\n",
    "Tuples are used to store multiple items in a single variable and are created using round brackets. For example:"
   ]
  },
  {
   "cell_type": "code",
   "execution_count": 94,
   "id": "alpha-gospel",
   "metadata": {
    "ExecuteTime": {
     "end_time": "2024-03-28T15:58:10.844634Z",
     "start_time": "2024-03-28T15:58:10.838218Z"
    }
   },
   "outputs": [
    {
     "name": "stdout",
     "output_type": "stream",
     "text": [
      "('apple', 'banana', 'cherry')\n"
     ]
    }
   ],
   "source": [
    "aTuple = (\"apple\", \"banana\", \"cherry\")\n",
    "print(aTuple)"
   ]
  },
  {
   "cell_type": "markdown",
   "id": "polish-statistics",
   "metadata": {},
   "source": [
    "Tuple items are **ordered** and **allow duplicate** values. In comparison to list items, tuple items are **unchangeable**. This means that we cannot change, add or remove items after the tuple has been created.\n",
    "\n",
    "Therefore, in the most cases we will prefer working with lists over tuples.\n",
    "The advantage of tuples is a faster processing time in comparison to lists and less memory requirement. Since we dont work on limited resources, we wont bother those advantages of tuples and continoue working with lists.\n",
    "\n",
    "For further information on tuples please visit https://www.w3schools.com/python/python_tuples.asp"
   ]
  },
  {
   "cell_type": "markdown",
   "id": "given-determination",
   "metadata": {},
   "source": [
    "### 4.3. Sets\n",
    "Sets are used to store multiple items in a single variable and are created using curly brackets. For example:"
   ]
  },
  {
   "cell_type": "code",
   "execution_count": 95,
   "id": "generic-wheat",
   "metadata": {
    "ExecuteTime": {
     "end_time": "2024-03-28T15:58:10.891673Z",
     "start_time": "2024-03-28T15:58:10.878363Z"
    }
   },
   "outputs": [
    {
     "name": "stdout",
     "output_type": "stream",
     "text": [
      "{'cherry', 'apple', 'banana'}\n"
     ]
    }
   ],
   "source": [
    "aSet = {\"apple\", \"banana\", \"cherry\"}\n",
    "print(aSet)"
   ]
  },
  {
   "cell_type": "markdown",
   "id": "express-ontario",
   "metadata": {},
   "source": [
    "A set is a collection which is **unordered** and **unindexed**. Set items are also **unchangeable**. In comparison the tuples, you are able to add new items into a set but can not change the value of existing set items. Furthermore, sets cannot have two items with the same values. Therefore, **no duplicates** are allowed!\n",
    "\n",
    "We will not work with sets in this course either. If you are interessed, you can read more about sets on https://www.w3schools.com/python/python_sets.asp"
   ]
  },
  {
   "cell_type": "markdown",
   "id": "alternative-marketing",
   "metadata": {},
   "source": [
    "### 4.4. Dictionaries\n",
    "Dictionaries are used to store data values in **`key:value`** pairs. A dictionary is a collection which is **ordered**, **changeable** and **does not allow duplicates**.\n",
    "\n",
    "Dictionaries are written with curly brackets, and have keys and values. For example:"
   ]
  },
  {
   "cell_type": "code",
   "execution_count": 96,
   "id": "challenging-compatibility",
   "metadata": {
    "ExecuteTime": {
     "end_time": "2024-03-28T15:58:10.977149Z",
     "start_time": "2024-03-28T15:58:10.974286Z"
    }
   },
   "outputs": [
    {
     "name": "stdout",
     "output_type": "stream",
     "text": [
      "{'name': 'Max Mustermann', 'id_number': 123456789, 'age': 25, 'is_member': True}\n"
     ]
    }
   ],
   "source": [
    "aDict = {\n",
    "    \"name\"      : \"Max Mustermann\",\n",
    "    \"id_number\" : 123456789,\n",
    "    \"age\"       : 25,\n",
    "    \"is_member\" : True\n",
    "}\n",
    "print(aDict)"
   ]
  },
  {
   "cell_type": "markdown",
   "id": "spoken-importance",
   "metadata": {},
   "source": [
    "Dictionary items are presented in **`key:value`** pairs, and can be referred to by using the key name. For example:"
   ]
  },
  {
   "cell_type": "code",
   "execution_count": 97,
   "id": "opening-disclosure",
   "metadata": {
    "ExecuteTime": {
     "end_time": "2024-03-28T15:58:11.030459Z",
     "start_time": "2024-03-28T15:58:10.994671Z"
    }
   },
   "outputs": [
    {
     "name": "stdout",
     "output_type": "stream",
     "text": [
      "Max Mustermann\n"
     ]
    }
   ],
   "source": [
    "print(aDict[\"name\"])"
   ]
  },
  {
   "cell_type": "markdown",
   "id": "correct-metadata",
   "metadata": {},
   "source": [
    "Adding an item to the dictionary is done by using a new index key and assigning a value to it:"
   ]
  },
  {
   "cell_type": "code",
   "execution_count": 98,
   "id": "ethical-enterprise",
   "metadata": {
    "ExecuteTime": {
     "end_time": "2024-03-28T15:58:11.073302Z",
     "start_time": "2024-03-28T15:58:11.069529Z"
    }
   },
   "outputs": [
    {
     "name": "stdout",
     "output_type": "stream",
     "text": [
      "{'name': 'Max Mustermann', 'id_number': 123456789, 'age': 25, 'is_member': True, 'address': 'Straße 1, 12345 Stadt'}\n"
     ]
    }
   ],
   "source": [
    "aDict = {\n",
    "    \"name\"      : \"Max Mustermann\",\n",
    "    \"id_number\" : 123456789,\n",
    "    \"age\"       : 25,\n",
    "    \"is_member\" : True\n",
    "}\n",
    "aDict[\"address\"] = \"Straße 1, 12345 Stadt\"\n",
    "\n",
    "print(aDict)"
   ]
  },
  {
   "cell_type": "markdown",
   "id": "entertaining-flower",
   "metadata": {},
   "source": [
    "In the same way we can change the value of existing keys. For example:"
   ]
  },
  {
   "cell_type": "code",
   "execution_count": 99,
   "id": "premium-dinner",
   "metadata": {
    "ExecuteTime": {
     "end_time": "2024-03-28T15:58:11.120203Z",
     "start_time": "2024-03-28T15:58:11.108164Z"
    }
   },
   "outputs": [
    {
     "name": "stdout",
     "output_type": "stream",
     "text": [
      "{'name': 'Max Mustermann', 'id_number': 123456789, 'age': 21, 'is_member': True}\n"
     ]
    }
   ],
   "source": [
    "aDict = {\n",
    "    \"name\"      : \"Max Mustermann\",\n",
    "    \"id_number\" : 123456789,\n",
    "    \"age\"       : 25,\n",
    "    \"is_member\" : True\n",
    "}\n",
    "aDict[\"age\"] = 21\n",
    "\n",
    "print(aDict)"
   ]
  },
  {
   "cell_type": "markdown",
   "id": "empty-rwanda",
   "metadata": {},
   "source": [
    "There are several functions which can be used on dictionaries. For example:"
   ]
  },
  {
   "cell_type": "code",
   "execution_count": 100,
   "id": "mounted-aberdeen",
   "metadata": {
    "ExecuteTime": {
     "end_time": "2024-03-28T15:58:11.211624Z",
     "start_time": "2024-03-28T15:58:11.208205Z"
    }
   },
   "outputs": [
    {
     "name": "stdout",
     "output_type": "stream",
     "text": [
      "dict_items([('name', 'Max Mustermann'), ('id_number', 123456789), ('age', 25), ('is_member', True)])\n",
      "\n",
      "('name', 'Max Mustermann')\n",
      "('id_number', 123456789)\n",
      "('age', 25)\n",
      "('is_member', True)\n"
     ]
    }
   ],
   "source": [
    "aDict = {\n",
    "    \"name\"      : \"Max Mustermann\",\n",
    "    \"id_number\" : 123456789,\n",
    "    \"age\"       : 25,\n",
    "    \"is_member\" : True\n",
    "}\n",
    "# Return a list containing a tuple for each key value pair\n",
    "a = aDict.items()\n",
    "print(a)\n",
    "print()\n",
    "for i in a:\n",
    "    print(i)"
   ]
  },
  {
   "cell_type": "code",
   "execution_count": 101,
   "id": "communist-adapter",
   "metadata": {
    "ExecuteTime": {
     "end_time": "2024-03-28T15:58:11.255476Z",
     "start_time": "2024-03-28T15:58:11.228202Z"
    }
   },
   "outputs": [
    {
     "name": "stdout",
     "output_type": "stream",
     "text": [
      "dict_keys(['name', 'id_number', 'age', 'is_member'])\n",
      "\n",
      "name\n",
      "id_number\n",
      "age\n",
      "is_member\n"
     ]
    }
   ],
   "source": [
    "aDict = {\n",
    "    \"name\"      : \"Max Mustermann\",\n",
    "    \"id_number\" : 123456789,\n",
    "    \"age\"       : 25,\n",
    "    \"is_member\" : True\n",
    "}\n",
    "# Return a list containing the dictionary's keys\n",
    "a = aDict.keys()\n",
    "print(a)\n",
    "print()\n",
    "for i in a:\n",
    "    print(i)"
   ]
  },
  {
   "cell_type": "code",
   "execution_count": 102,
   "id": "coupled-kernel",
   "metadata": {
    "ExecuteTime": {
     "end_time": "2024-03-28T15:58:11.301173Z",
     "start_time": "2024-03-28T15:58:11.298031Z"
    }
   },
   "outputs": [
    {
     "name": "stdout",
     "output_type": "stream",
     "text": [
      "dict_values(['Max Mustermann', 123456789, 25, True])\n",
      "\n",
      "Max Mustermann\n",
      "123456789\n",
      "25\n",
      "True\n"
     ]
    }
   ],
   "source": [
    "aDict = {\n",
    "    \"name\"      : \"Max Mustermann\",\n",
    "    \"id_number\" : 123456789,\n",
    "    \"age\"       : 25,\n",
    "    \"is_member\" : True\n",
    "}\n",
    "# Return a list of all the values in the dictionary\n",
    "a = aDict.values()\n",
    "print(a)\n",
    "print()\n",
    "for i in a:\n",
    "    print(i)"
   ]
  },
  {
   "cell_type": "code",
   "execution_count": 103,
   "id": "piano-calculation",
   "metadata": {
    "ExecuteTime": {
     "end_time": "2024-03-28T15:58:11.360832Z",
     "start_time": "2024-03-28T15:58:11.337762Z"
    }
   },
   "outputs": [
    {
     "name": "stdout",
     "output_type": "stream",
     "text": [
      "123456789\n"
     ]
    }
   ],
   "source": [
    "aDict = {\n",
    "    \"name\"      : \"Max Mustermann\",\n",
    "    \"id_number\" : 123456789,\n",
    "    \"age\"       : 25,\n",
    "    \"is_member\" : True\n",
    "}\n",
    "# Return the value of the specified key\n",
    "a = aDict.get(\"id_number\")\n",
    "print(a)"
   ]
  },
  {
   "cell_type": "code",
   "execution_count": 104,
   "id": "infectious-density",
   "metadata": {
    "ExecuteTime": {
     "end_time": "2024-03-28T15:58:11.422425Z",
     "start_time": "2024-03-28T15:58:11.418935Z"
    }
   },
   "outputs": [
    {
     "name": "stdout",
     "output_type": "stream",
     "text": [
      "{'id_number': 123456789, 'age': 25, 'is_member': True}\n"
     ]
    }
   ],
   "source": [
    "aDict = {\n",
    "    \"name\"      : \"Max Mustermann\",\n",
    "    \"id_number\" : 123456789,\n",
    "    \"age\"       : 25,\n",
    "    \"is_member\" : True\n",
    "}\n",
    "# Remove the element with the specified key\n",
    "aDict.pop(\"name\")\n",
    "print(aDict)"
   ]
  },
  {
   "cell_type": "markdown",
   "id": "theoretical-spirit",
   "metadata": {},
   "source": [
    "For further information on lists please visit https://www.w3schools.com/python/python_dictionaries.asp"
   ]
  },
  {
   "cell_type": "markdown",
   "id": "straight-newspaper",
   "metadata": {},
   "source": [
    "---\n",
    "## 5. Control Structures\n",
    "---\n",
    "Python consists of several control structures which can be used to analyse variables and make decisions based on statements. The flow of control through any given program is implemented with three basic types of control structures: \n",
    "* sequential, \n",
    "* selection and \n",
    "* repetition.\n",
    "\n",
    "**Sequential** program execution is done when statements are executed one after another in order. You dont need to do anything more for this to happen. Sequential execution is basically the basis for programming.\n",
    "\n",
    "**Selection** is used for decisions and branching. For example choosing between two or more alternative paths. For this case Python implements the following selection based control structures:\n",
    "* `if` statement\n",
    "* `if`..`else` statement\n",
    "* `if`..`elif`..`else` statement\n",
    "\n",
    "**Repetition** is used for looping. In example for repeating a piece of code multiple times in a row. This can be done through the following control structures in Python:\n",
    "* `while` loop\n",
    "* `for` loop\n"
   ]
  },
  {
   "cell_type": "markdown",
   "id": "clinical-oregon",
   "metadata": {},
   "source": [
    "### 5.1. if statement (and its variations)\n",
    "An if statement is written by using the `if` keyword. It consists of a condition for decision making and an expression which is executed when the condition is true. For example:"
   ]
  },
  {
   "cell_type": "code",
   "execution_count": 105,
   "id": "protective-acoustic",
   "metadata": {
    "ExecuteTime": {
     "end_time": "2024-03-28T15:58:11.462013Z",
     "start_time": "2024-03-28T15:58:11.437465Z"
    }
   },
   "outputs": [
    {
     "name": "stdout",
     "output_type": "stream",
     "text": [
      "b is greater than a\n"
     ]
    }
   ],
   "source": [
    "a = 33\n",
    "b = 200\n",
    "if b > a:\n",
    "    print(\"b is greater than a\")"
   ]
  },
  {
   "cell_type": "markdown",
   "id": "distant-romance",
   "metadata": {},
   "source": [
    "In this example, the condition of the if statement is `b > a`. If this condition is true, then the expression `print(\"b is greater than a\")` is executed. If the condition is false, the expression is not executed.\n",
    "\n",
    "Pay attention to the indentation of the if statement's expression. "
   ]
  },
  {
   "cell_type": "markdown",
   "id": "middle-million",
   "metadata": {},
   "source": [
    "##### if...else\n",
    "The `else` keyword catches anything which isn't caught by the preceding conditions of the if statement. For example:"
   ]
  },
  {
   "cell_type": "code",
   "execution_count": 106,
   "id": "saved-portsmouth",
   "metadata": {
    "ExecuteTime": {
     "end_time": "2024-03-28T15:58:11.495185Z",
     "start_time": "2024-03-28T15:58:11.463022Z"
    }
   },
   "outputs": [
    {
     "name": "stdout",
     "output_type": "stream",
     "text": [
      "b is not greater than a\n"
     ]
    }
   ],
   "source": [
    "a = 200\n",
    "b = 33\n",
    "if b > a:\n",
    "      print(\"b is greater than a\")\n",
    "else:\n",
    "      print(\"b is not greater than a\")"
   ]
  },
  {
   "cell_type": "markdown",
   "id": "fantastic-reward",
   "metadata": {},
   "source": [
    "##### if...elif...else\n",
    "The `elif` keyword is pythons way of saying \"*if the previous conditions were not true, then try this condition*\". For example:"
   ]
  },
  {
   "cell_type": "code",
   "execution_count": 107,
   "id": "formed-firewall",
   "metadata": {
    "ExecuteTime": {
     "end_time": "2024-03-28T15:58:11.547997Z",
     "start_time": "2024-03-28T15:58:11.536757Z"
    }
   },
   "outputs": [
    {
     "name": "stdout",
     "output_type": "stream",
     "text": [
      "a and b are equal\n"
     ]
    }
   ],
   "source": [
    "a = 200\n",
    "b = 200\n",
    "if b > a:\n",
    "      print(\"b is greater than a\")\n",
    "elif a == b:\n",
    "      print(\"a and b are equal\")\n",
    "else:\n",
    "      print(\"a is greater than b\")"
   ]
  },
  {
   "cell_type": "markdown",
   "id": "reverse-utility",
   "metadata": {},
   "source": [
    "#### combination of conditional statements\n",
    "Conditional statements can be combined by using the keywords `and` and `or`. \n",
    "\n",
    "Every condition which is combined by using the keyword `and` must be true in order to execute the expression of the if statement. For example:"
   ]
  },
  {
   "cell_type": "code",
   "execution_count": 108,
   "id": "hollow-cooper",
   "metadata": {
    "ExecuteTime": {
     "end_time": "2024-03-28T15:58:11.614116Z",
     "start_time": "2024-03-28T15:58:11.611105Z"
    }
   },
   "outputs": [
    {
     "name": "stdout",
     "output_type": "stream",
     "text": [
      "Both conditions are True\n"
     ]
    }
   ],
   "source": [
    "a = 200\n",
    "b = 33\n",
    "c = 500\n",
    "\n",
    "# test if a is greater than b, AND if c is greater than a\n",
    "if a > b and c > a:\n",
    "      print(\"Both conditions are True\")"
   ]
  },
  {
   "cell_type": "markdown",
   "id": "unusual-issue",
   "metadata": {},
   "source": [
    "When using the `or` keyword, it is enough when one of the combined conditions is true. For example:"
   ]
  },
  {
   "cell_type": "code",
   "execution_count": 109,
   "id": "extreme-mercury",
   "metadata": {
    "ExecuteTime": {
     "end_time": "2024-03-28T15:58:11.653152Z",
     "start_time": "2024-03-28T15:58:11.648279Z"
    }
   },
   "outputs": [
    {
     "name": "stdout",
     "output_type": "stream",
     "text": [
      "At least one of the conditions is True\n"
     ]
    }
   ],
   "source": [
    "b = 33\n",
    "c = 500\n",
    "\n",
    "# test if a is greater than b, OR if a is greater than c\n",
    "if a > b or a > c:\n",
    "      print(\"At least one of the conditions is True\")"
   ]
  },
  {
   "cell_type": "markdown",
   "id": "crude-blame",
   "metadata": {},
   "source": [
    "#### nested if statements\n",
    "A nested if statement contains an if statement in a if statement."
   ]
  },
  {
   "cell_type": "code",
   "execution_count": 110,
   "id": "insured-sessions",
   "metadata": {
    "ExecuteTime": {
     "end_time": "2024-03-28T15:58:11.746853Z",
     "start_time": "2024-03-28T15:58:11.743826Z"
    }
   },
   "outputs": [
    {
     "name": "stdout",
     "output_type": "stream",
     "text": [
      "b is greater than a\n"
     ]
    }
   ],
   "source": [
    "a = 33\n",
    "b = 200\n",
    "if type(a) == type(b):\n",
    "    if b > a:\n",
    "        print(\"b is greater than a\")"
   ]
  },
  {
   "cell_type": "markdown",
   "id": "ecological-scottish",
   "metadata": {},
   "source": [
    "Note: in order to execute the expression of the inner if statement, both conditions must be true. In the most cases, you can simplfy nested if statements by combining the conditions. For example:"
   ]
  },
  {
   "cell_type": "code",
   "execution_count": 111,
   "id": "black-harvest",
   "metadata": {
    "ExecuteTime": {
     "end_time": "2024-03-28T15:58:11.784815Z",
     "start_time": "2024-03-28T15:58:11.769895Z"
    }
   },
   "outputs": [
    {
     "name": "stdout",
     "output_type": "stream",
     "text": [
      "b is greater than a\n"
     ]
    }
   ],
   "source": [
    "a = 33\n",
    "b = 200\n",
    "if type(a) == type(b) and b > a:\n",
    "    print(\"b is greater than a\")"
   ]
  },
  {
   "cell_type": "markdown",
   "id": "human-adolescent",
   "metadata": {},
   "source": [
    "### 5.2. while loop\n",
    "The while loop allows to execute the expression in a iterative manner as long as the condition is true. For example:"
   ]
  },
  {
   "cell_type": "code",
   "execution_count": 112,
   "id": "supreme-guide",
   "metadata": {
    "ExecuteTime": {
     "end_time": "2024-03-28T15:58:11.852484Z",
     "start_time": "2024-03-28T15:58:11.849452Z"
    }
   },
   "outputs": [
    {
     "name": "stdout",
     "output_type": "stream",
     "text": [
      "1\n",
      "2\n",
      "3\n",
      "4\n",
      "5\n",
      "6\n",
      "7\n",
      "8\n"
     ]
    }
   ],
   "source": [
    "i = 1\n",
    "\n",
    "# print i as long as i is less than 9\n",
    "while i < 9:\n",
    "    print(i)\n",
    "    i += 1\n",
    "    \n",
    "# note: remember to increment i in this example. otherwise the loop will continue forever because the condition will be set true forever."
   ]
  },
  {
   "cell_type": "markdown",
   "id": "suspected-bryan",
   "metadata": {},
   "source": [
    "The while loop requires relevant variables to be ready, in this example we need to define an indexing variable, i, which we set to 1."
   ]
  },
  {
   "cell_type": "markdown",
   "id": "polar-charm",
   "metadata": {},
   "source": [
    "#### break statement\n",
    "The `break` statement allows to stop the loop even if the while condition is set true. For example:"
   ]
  },
  {
   "cell_type": "code",
   "execution_count": 113,
   "id": "asian-repository",
   "metadata": {
    "ExecuteTime": {
     "end_time": "2024-03-28T15:58:11.898309Z",
     "start_time": "2024-03-28T15:58:11.894569Z"
    }
   },
   "outputs": [
    {
     "name": "stdout",
     "output_type": "stream",
     "text": [
      "1\n",
      "2\n",
      "3\n",
      "4\n",
      "5\n"
     ]
    }
   ],
   "source": [
    "i = 1\n",
    "\n",
    "# exit the loop when i is 5\n",
    "while i < 9:\n",
    "    print(i)\n",
    "    if i == 5:\n",
    "        break\n",
    "    i += 1"
   ]
  },
  {
   "cell_type": "markdown",
   "id": "satisfied-bracelet",
   "metadata": {},
   "source": [
    "#### continue statement\n",
    "The `continue` statement allows to stop the current iteration, and continue with the next one. For example:"
   ]
  },
  {
   "cell_type": "code",
   "execution_count": 114,
   "id": "described-consciousness",
   "metadata": {
    "ExecuteTime": {
     "end_time": "2024-03-28T15:58:11.987488Z",
     "start_time": "2024-03-28T15:58:11.983481Z"
    }
   },
   "outputs": [
    {
     "name": "stdout",
     "output_type": "stream",
     "text": [
      "1\n",
      "3\n",
      "4\n"
     ]
    }
   ],
   "source": [
    "i = 0\n",
    "# continue to the next iteration if i is 2\n",
    "while i < 4:\n",
    "    i += 1\n",
    "    if i == 2:\n",
    "        continue\n",
    "    print(i)"
   ]
  },
  {
   "cell_type": "markdown",
   "id": "different-southwest",
   "metadata": {},
   "source": [
    "#### else statement\n",
    "As described above in relation to if statements, the `else` statement can be used to run a expression once the condition is no longer true. For example:"
   ]
  },
  {
   "cell_type": "code",
   "execution_count": 115,
   "id": "authorized-credit",
   "metadata": {
    "ExecuteTime": {
     "end_time": "2024-03-28T15:58:12.038474Z",
     "start_time": "2024-03-28T15:58:12.008527Z"
    }
   },
   "outputs": [
    {
     "name": "stdout",
     "output_type": "stream",
     "text": [
      "1\n",
      "2\n",
      "3\n",
      "4\n",
      "5\n",
      "i is no longer less than 6\n"
     ]
    }
   ],
   "source": [
    "i = 1\n",
    "# print a message once the condition is false\n",
    "while i < 6:\n",
    "    print(i)\n",
    "    i += 1\n",
    "else:\n",
    "    print(\"i is no longer less than 6\")"
   ]
  },
  {
   "cell_type": "markdown",
   "id": "skilled-array",
   "metadata": {},
   "source": [
    "### 5.3. for loop\n",
    "A for loop is used for iterating over a sequence (that is either a list, a tuple, a dictionary, a set, or a string).\n",
    "\n",
    "This is less like the `for` keyword in other programming languages like C or C++, which require a initialization statement, a test expression and a update statement, for e.g.:\n",
    "\n",
    "for( int i = 1; i <= 10 ; i++ ){\n",
    "\n",
    "}\n",
    "\n",
    "The `for` keyword works in Python more like an iterator method as found in other object-orientated programming languages.\n",
    "\n",
    "With the for loop we can execute a set of statements, once for each item in a list, tuple, set etc. For example:"
   ]
  },
  {
   "cell_type": "code",
   "execution_count": 116,
   "id": "distributed-malpractice",
   "metadata": {
    "ExecuteTime": {
     "end_time": "2024-03-28T15:58:12.085590Z",
     "start_time": "2024-03-28T15:58:12.082131Z"
    }
   },
   "outputs": [
    {
     "name": "stdout",
     "output_type": "stream",
     "text": [
      "apple\n",
      "banana\n",
      "cherry\n"
     ]
    }
   ],
   "source": [
    "fruits = [\"apple\", \"banana\", \"cherry\"]\n",
    "# print each fruit in a fruit list\n",
    "for x in fruits:\n",
    "    print(x)"
   ]
  },
  {
   "cell_type": "markdown",
   "id": "express-sweden",
   "metadata": {},
   "source": [
    "The for loop does not require an indexing variable to set beforehand.\n",
    "\n",
    "The `break`,  `continue` and `else` statements can be used within the for loop in the same manner as described above in relation to while loops."
   ]
  },
  {
   "cell_type": "markdown",
   "id": "infinite-harvest",
   "metadata": {},
   "source": [
    "#### looping for a specified number of times\n",
    "\n",
    "To loop through a set of code a specified number of times, we can use the `range()` function,\n",
    "The `range()` function returns a sequence of numbers, starting from 0 by default, and increments by 1 (by default), and ends at a specified number. For example:"
   ]
  },
  {
   "cell_type": "code",
   "execution_count": 117,
   "id": "governmental-declaration",
   "metadata": {
    "ExecuteTime": {
     "end_time": "2024-03-28T15:58:12.125998Z",
     "start_time": "2024-03-28T15:58:12.120291Z"
    }
   },
   "outputs": [
    {
     "name": "stdout",
     "output_type": "stream",
     "text": [
      "0\n",
      "1\n",
      "2\n",
      "3\n",
      "4\n",
      "5\n"
     ]
    }
   ],
   "source": [
    "for x in range(6):\n",
    "    print(x)\n",
    "    \n",
    "# Note that range(6) is not the values of 0 to 6, but the values 0 to 5."
   ]
  },
  {
   "cell_type": "markdown",
   "id": "structural-projector",
   "metadata": {},
   "source": [
    "The range() function defaults to 0 as a starting value, however it is possible to specify the starting value by adding a parameter: range(2, 6), which means values from 2 to 6 (but not including 6). For example:"
   ]
  },
  {
   "cell_type": "code",
   "execution_count": 118,
   "id": "verified-italic",
   "metadata": {
    "ExecuteTime": {
     "end_time": "2024-03-28T15:58:12.226726Z",
     "start_time": "2024-03-28T15:58:12.205156Z"
    }
   },
   "outputs": [
    {
     "name": "stdout",
     "output_type": "stream",
     "text": [
      "2\n",
      "3\n",
      "4\n",
      "5\n"
     ]
    }
   ],
   "source": [
    "# using the start parameter (default is 0)\n",
    "for x in range(2, 6):\n",
    "    print(x)"
   ]
  },
  {
   "cell_type": "markdown",
   "id": "wired-ordering",
   "metadata": {},
   "source": [
    "The range() function defaults to increment the sequence by 1, however it is possible to specify the increment value by adding a third parameter: range(2, 30, 3):"
   ]
  },
  {
   "cell_type": "code",
   "execution_count": 119,
   "id": "incorporated-interest",
   "metadata": {
    "ExecuteTime": {
     "end_time": "2024-03-28T15:58:12.266510Z",
     "start_time": "2024-03-28T15:58:12.227736Z"
    }
   },
   "outputs": [
    {
     "name": "stdout",
     "output_type": "stream",
     "text": [
      "2\n",
      "5\n",
      "8\n",
      "11\n",
      "14\n",
      "17\n",
      "20\n",
      "23\n",
      "26\n",
      "29\n"
     ]
    }
   ],
   "source": [
    "# increment the sequence with 3 (default is 1)\n",
    "for x in range(2, 30, 3):\n",
    "    print(x)"
   ]
  },
  {
   "cell_type": "markdown",
   "id": "instant-narrative",
   "metadata": {},
   "source": [
    "You can also loop backwards by starting with a higher number decrementing the sequence until a lower limit is reached. For example:"
   ]
  },
  {
   "cell_type": "code",
   "execution_count": 120,
   "id": "municipal-architecture",
   "metadata": {
    "ExecuteTime": {
     "end_time": "2024-03-28T15:58:12.305070Z",
     "start_time": "2024-03-28T15:58:12.267018Z"
    }
   },
   "outputs": [
    {
     "name": "stdout",
     "output_type": "stream",
     "text": [
      "9\n",
      "8\n",
      "7\n",
      "6\n",
      "5\n",
      "4\n",
      "3\n",
      "2\n",
      "1\n"
     ]
    }
   ],
   "source": [
    "# decrement the sequence with -1\n",
    "for x in range(9, 0, -1):\n",
    "    print(x)"
   ]
  },
  {
   "cell_type": "markdown",
   "id": "solved-walter",
   "metadata": {},
   "source": [
    "#### nested for loops\n",
    "\n",
    "A nested loop is a loop inside a loop. The *\"inner loop\"* will be executed one time for each iteration of the *\"outer loop\"*:"
   ]
  },
  {
   "cell_type": "code",
   "execution_count": 121,
   "id": "binary-memphis",
   "metadata": {
    "ExecuteTime": {
     "end_time": "2024-03-28T15:58:12.348852Z",
     "start_time": "2024-03-28T15:58:12.330338Z"
    }
   },
   "outputs": [
    {
     "name": "stdout",
     "output_type": "stream",
     "text": [
      "red apple\n",
      "red banana\n",
      "red cherry\n",
      "big apple\n",
      "big banana\n",
      "big cherry\n",
      "tasty apple\n",
      "tasty banana\n",
      "tasty cherry\n"
     ]
    }
   ],
   "source": [
    "adj = [\"red\", \"big\", \"tasty\"]\n",
    "fruits = [\"apple\", \"banana\", \"cherry\"]\n",
    "# print each adjective for every fruit:\n",
    "for x in adj:\n",
    "    for y in fruits:\n",
    "        print(x, y)"
   ]
  },
  {
   "cell_type": "markdown",
   "id": "comic-auction",
   "metadata": {},
   "source": [
    "---\n",
    "## 6. Functions\n",
    "---\n",
    "\n",
    "A function is a block of code which only runs when it is called. You can pass data, known as parameters, into a function. A function can return data as a result.\n",
    "\n",
    "In Python a function is defined using the `def` keyword. For example:"
   ]
  },
  {
   "cell_type": "code",
   "execution_count": 122,
   "id": "obvious-somerset",
   "metadata": {
    "ExecuteTime": {
     "end_time": "2024-03-28T15:58:12.443026Z",
     "start_time": "2024-03-28T15:58:12.439998Z"
    }
   },
   "outputs": [],
   "source": [
    "def my_function():\n",
    "    print(\"Hello from a function\")"
   ]
  },
  {
   "cell_type": "markdown",
   "id": "absent-compact",
   "metadata": {},
   "source": [
    "To call a function, use the function name followed by parenthesis. For example:"
   ]
  },
  {
   "cell_type": "code",
   "execution_count": 123,
   "id": "defensive-filter",
   "metadata": {
    "ExecuteTime": {
     "end_time": "2024-03-28T15:58:12.495286Z",
     "start_time": "2024-03-28T15:58:12.492156Z"
    }
   },
   "outputs": [
    {
     "name": "stdout",
     "output_type": "stream",
     "text": [
      "Hello from a function\n"
     ]
    }
   ],
   "source": [
    "my_function()"
   ]
  },
  {
   "cell_type": "markdown",
   "id": "satellite-issue",
   "metadata": {},
   "source": [
    "Information can be passed into functions as arguments. Arguments are specified after the function name, inside the parentheses. You can add as many arguments as you want, just separate them with a comma.\n",
    "\n",
    "The following example has a function with two parameters (`a` and `b`). When the function is called, we pass along both parameters to perform a addition. The arguments of the function are `3` for parameter a and `6` for parameter b. The `return` statement is used to return the value of the calculation after the execution of the function."
   ]
  },
  {
   "cell_type": "code",
   "execution_count": 124,
   "id": "front-hamilton",
   "metadata": {
    "ExecuteTime": {
     "end_time": "2024-03-28T15:58:12.578744Z",
     "start_time": "2024-03-28T15:58:12.574340Z"
    }
   },
   "outputs": [
    {
     "data": {
      "text/plain": "9"
     },
     "execution_count": 124,
     "metadata": {},
     "output_type": "execute_result"
    }
   ],
   "source": [
    "def my_function(a, b):\n",
    "    return a + b\n",
    "\n",
    "my_function(3, 6)"
   ]
  },
  {
   "cell_type": "code",
   "execution_count": 124,
   "id": "applied-reservation",
   "metadata": {
    "ExecuteTime": {
     "end_time": "2024-03-28T15:58:12.594549Z",
     "start_time": "2024-03-28T15:58:12.592268Z"
    }
   },
   "outputs": [],
   "source": []
  }
 ],
 "metadata": {
  "kernelspec": {
   "display_name": "Python 3 (ipykernel)",
   "language": "python",
   "name": "python3"
  },
  "language_info": {
   "codemirror_mode": {
    "name": "ipython",
    "version": 3
   },
   "file_extension": ".py",
   "mimetype": "text/x-python",
   "name": "python",
   "nbconvert_exporter": "python",
   "pygments_lexer": "ipython3",
   "version": "3.11.5"
  }
 },
 "nbformat": 4,
 "nbformat_minor": 5
}
