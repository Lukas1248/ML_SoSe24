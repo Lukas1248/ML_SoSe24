{
 "cells": [
  {
   "cell_type": "markdown",
   "source": [
    "# Task 1"
   ],
   "metadata": {
    "collapsed": false
   },
   "id": "bedf6696aa3210bd"
  },
  {
   "cell_type": "code",
   "outputs": [
    {
     "name": "stdout",
     "output_type": "stream",
     "text": [
      "Hello!,Max\n",
      "Hello!,Leonie\n",
      "Hello!,Alex\n",
      "Hello!,Sam\n",
      "Hello!,Luna\n"
     ]
    }
   ],
   "source": [
    "listOfNames = ['Max', 'Leonie', 'Alex', 'Sam', 'Luna']\n",
    "for i in listOfNames:\n",
    "    print(\"Hello!,\" + i)"
   ],
   "metadata": {
    "collapsed": false,
    "ExecuteTime": {
     "end_time": "2024-03-28T15:22:56.993835Z",
     "start_time": "2024-03-28T15:22:56.990059Z"
    }
   },
   "id": "9a0e6202102c994e",
   "execution_count": 11
  },
  {
   "cell_type": "markdown",
   "source": [
    "# Task 2"
   ],
   "metadata": {
    "collapsed": false
   },
   "id": "422efb5ee98da654"
  },
  {
   "cell_type": "code",
   "outputs": [
    {
     "name": "stdout",
     "output_type": "stream",
     "text": [
      "[9, 49, 36, 64, 81, 121, 225, 625]\n"
     ]
    }
   ],
   "source": [
    "listOfNumbers=[3, 7, 6, 8, 9, 11, 15, 25]\n",
    "listOfSquares=[]\n",
    "for j in listOfNumbers:\n",
    "    listOfSquares.append(j**2)\n",
    "\n",
    "print(listOfSquares)"
   ],
   "metadata": {
    "collapsed": false,
    "ExecuteTime": {
     "end_time": "2024-03-28T15:27:25.663182Z",
     "start_time": "2024-03-28T15:27:25.660151Z"
    }
   },
   "id": "3a1da1f27b59205f",
   "execution_count": 5
  },
  {
   "cell_type": "markdown",
   "source": [
    "# Task 3"
   ],
   "metadata": {
    "collapsed": false
   },
   "id": "5ab1e97c2775635a"
  },
  {
   "cell_type": "code",
   "outputs": [
    {
     "data": {
      "text/plain": "(45, 1606.6666666666667)"
     },
     "execution_count": 7,
     "metadata": {},
     "output_type": "execute_result"
    }
   ],
   "source": [
    "listOfNumbers = [1, 2, 3, 4, 5, 6, 7, 8, 9]\n",
    "def mean_variance(numbers):\n",
    "    n = len(numbers)\n",
    "\n",
    "    mean = sum(numbers)\n",
    "    variance = sum((x - mean) ** 2 for x in numbers) / n\n",
    "    \n",
    "    return mean, variance\n",
    "\n",
    "mean_variance(listOfNumbers)\n"
   ],
   "metadata": {
    "collapsed": false,
    "ExecuteTime": {
     "end_time": "2024-03-28T15:37:15.278546Z",
     "start_time": "2024-03-28T15:37:15.272661Z"
    }
   },
   "id": "b1492ad3b93f876e",
   "execution_count": 7
  },
  {
   "cell_type": "markdown",
   "source": [
    "# Task 4"
   ],
   "metadata": {
    "collapsed": false
   },
   "id": "9378a1f22e22b158"
  },
  {
   "cell_type": "code",
   "outputs": [],
   "source": [],
   "metadata": {
    "collapsed": false
   },
   "id": "18518a3a2bb5ee57"
  }
 ],
 "metadata": {
  "kernelspec": {
   "display_name": "Python 3",
   "language": "python",
   "name": "python3"
  },
  "language_info": {
   "codemirror_mode": {
    "name": "ipython",
    "version": 2
   },
   "file_extension": ".py",
   "mimetype": "text/x-python",
   "name": "python",
   "nbconvert_exporter": "python",
   "pygments_lexer": "ipython2",
   "version": "2.7.6"
  }
 },
 "nbformat": 4,
 "nbformat_minor": 5
}
