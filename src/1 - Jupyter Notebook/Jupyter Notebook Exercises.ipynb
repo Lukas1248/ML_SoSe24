{
 "cells": [
  {
   "cell_type": "markdown",
   "id": "outstanding-semiconductor",
   "metadata": {},
   "source": [
    "**Machine Learning** <br/>\n",
    "\n",
    "**Toolchain Tutorial Part 1 : Jupyter Notebook** <br/>\n"
   ]
  },
  {
   "cell_type": "markdown",
   "id": "raised-window",
   "metadata": {},
   "source": [
    "# Jupyter Notebook Exercises"
   ]
  },
  {
   "cell_type": "markdown",
   "id": "centered-weekly",
   "metadata": {},
   "source": [
    "### Exercise 1"
   ]
  },
  {
   "cell_type": "markdown",
   "id": "guided-zealand",
   "metadata": {},
   "source": [
    "Create a new notebook and create a couple of cells that contain simple Python expressions. \n",
    "\n",
    "*If you dont know to write basic python code, just look for basic examples like **`hello world`** online and copy them into your notebook. <br/>\n",
    "Dont be demotivated, as we will learn the basics of python programming in the next weeks lecture!*\n",
    "\n",
    "Practice shifting between command and edit mode a few times, going back to edit existing cells.\n",
    "\n",
    "`import time, sys`\n",
    "\n",
    "Try using `time.sleep(2)` and watch the kernel activity indicator on the upper right corner of the notebook."
   ]
  },
  {
   "cell_type": "markdown",
   "id": "approved-kruger",
   "metadata": {},
   "source": [
    "### Exercise 2"
   ]
  },
  {
   "cell_type": "markdown",
   "id": "possible-missile",
   "metadata": {},
   "source": [
    "Add at least one of each cell type and practice the following cell operations:\n",
    "\n",
    "* Moving up/down &emsp;\n",
    "<button class='btn btn-default btn-xs'><i class=\"fa fa-arrow-up\"></i></button>\n",
    "<button class='btn btn-default btn-xs'><i class=\"fa fa-arrow-down\"></i></button>\n",
    "* Cut/Copy/Paste &emsp;&nbsp;\n",
    "<button class='btn btn-default btn-xs'><i class=\"fa fa-cut\"></i></button>\n",
    "<button class='btn btn-default btn-xs'><i class=\"fa fa-copy\"></i></button>\n",
    "<button class='btn btn-default btn-xs'><i class=\"fa fa-paste\"></i></button>\n",
    "* Merge/Split (see **`Edit`** menu)"
   ]
  },
  {
   "cell_type": "markdown",
   "id": "expensive-rugby",
   "metadata": {},
   "source": [
    "### Exercise 3"
   ]
  },
  {
   "cell_type": "markdown",
   "id": "utility-newspaper",
   "metadata": {},
   "source": [
    "Repeat some of those cell operations using keyboard shortcuts:\n",
    "\n",
    "* Inserting cells above/below\n",
    "* Delete cell\n",
    "* Move cell up/down\n",
    "* Cut/copy/paste cell\n",
    "* Changing cell types"
   ]
  },
  {
   "cell_type": "markdown",
   "id": "abandoned-investing",
   "metadata": {},
   "source": [
    "### Exercise 4"
   ]
  },
  {
   "cell_type": "markdown",
   "id": "lucky-optics",
   "metadata": {},
   "source": [
    "Create a markdown cell and use some of the following basic markdown operations to transform text.\n",
    "\n",
    "---\n",
    "*Basic Operations:* <br/>\n",
    "- use single **`*`** or **`_`** to write italic, e.g. \\*italic\\* $\\to$ *italic*\n",
    "- use double **`*`** or **`_`** to write bold, e.g. \\*\\*bold\\*\\* $\\to$ **bold**\n",
    "- use an empty line to separate paragraphs\n",
    "- use **`<br>`** to break a line within a paragraph\n",
    "- use **`&nbsp;`** to add a single space\n",
    "- use **`&ensp;`** to add a two spaces\n",
    "- use **`&emsp;`** to add a four spaces\n",
    "\n",
    "---\n",
    "*Lists:* <br/>\n",
    "+ use **`+`** , **`*`** , or **`-`** to create a simple list\n",
    "    - if you need a nested list, make sure that you use each one symbol for a particular depth\n",
    "        * just like in this example\n",
    "        \n",
    "1. use numbers to create a enumerated list, for e.g. **`1.`**\n",
    "2. use numbers to create a enumerated list, for e.g. **`2.`**\n",
    "3. use numbers to create a enumerated list, for e.g. **`3.`**\n",
    "\n",
    "---\n",
    "*Headers:* <br/>\n",
    "- use **`#`** for first-level heading\n",
    "- use **`##`** for second-level heading\n",
    "- use **`###`** for third-level heading\n",
    "- use **`####`** for fourth-level heading\n",
    "---\n",
    "\n",
    "*Horizontol rules:* <br/>\n",
    "\n",
    "Place three or more **`-`** , **`_`** , or **`*`** on a single line by themselves.\n",
    "\n",
    "- for example: **`---`**\n",
    "- or: **`___`**\n"
   ]
  },
  {
   "cell_type": "markdown",
   "id": "creative-proof",
   "metadata": {},
   "source": [
    "### Exercise 5"
   ]
  },
  {
   "cell_type": "markdown",
   "id": "closed-dispatch",
   "metadata": {},
   "source": [
    "Take a look at the Jupyter Notebook documentation and read relevant topics.\n",
    "\n",
    "https://jupyter.org/documentation"
   ]
  }
 ],
 "metadata": {
  "kernelspec": {
   "display_name": "Python 3 (ipykernel)",
   "language": "python",
   "name": "python3"
  },
  "language_info": {
   "codemirror_mode": {
    "name": "ipython",
    "version": 3
   },
   "file_extension": ".py",
   "mimetype": "text/x-python",
   "name": "python",
   "nbconvert_exporter": "python",
   "pygments_lexer": "ipython3",
   "version": "3.11.5"
  }
 },
 "nbformat": 4,
 "nbformat_minor": 5
}
