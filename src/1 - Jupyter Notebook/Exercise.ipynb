{
 "cells": [
  {
   "cell_type": "markdown",
   "source": [
    "### Exercie 1"
   ],
   "metadata": {
    "collapsed": false
   },
   "id": "a83530099b83b674"
  },
  {
   "cell_type": "code",
   "execution_count": 1,
   "id": "initial_id",
   "metadata": {
    "collapsed": true,
    "ExecuteTime": {
     "end_time": "2024-03-22T09:47:29.598868Z",
     "start_time": "2024-03-22T09:47:27.589381Z"
    }
   },
   "outputs": [
    {
     "name": "stdout",
     "output_type": "stream",
     "text": [
      "Hello World\n"
     ]
    }
   ],
   "source": [
    "print(\"Hello World\")\n",
    "import time\n",
    "time.sleep(2)"
   ]
  },
  {
   "cell_type": "markdown",
   "source": [
    "### Exercise 2"
   ],
   "metadata": {
    "collapsed": false
   },
   "id": "7c8eaf06489014e6"
  },
  {
   "cell_type": "code",
   "outputs": [],
   "source": [],
   "metadata": {
    "collapsed": false
   },
   "id": "b07b5dbc3fce7586"
  },
  {
   "cell_type": "markdown",
   "source": [],
   "metadata": {
    "collapsed": false
   },
   "id": "dcc9e2fa42f0fec3"
  },
  {
   "cell_type": "markdown",
   "source": [
    "### Exercise 3"
   ],
   "metadata": {
    "collapsed": false
   },
   "id": "6e79b3f6c6a3f838"
  },
  {
   "cell_type": "code",
   "outputs": [],
   "source": [],
   "metadata": {
    "collapsed": false
   },
   "id": "a586806d13c9469b"
  }
 ],
 "metadata": {
  "kernelspec": {
   "display_name": "Python 3",
   "language": "python",
   "name": "python3"
  },
  "language_info": {
   "codemirror_mode": {
    "name": "ipython",
    "version": 2
   },
   "file_extension": ".py",
   "mimetype": "text/x-python",
   "name": "python",
   "nbconvert_exporter": "python",
   "pygments_lexer": "ipython2",
   "version": "2.7.6"
  }
 },
 "nbformat": 4,
 "nbformat_minor": 5
}
